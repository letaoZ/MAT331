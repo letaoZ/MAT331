{
 "cells": [
  {
   "cell_type": "markdown",
   "metadata": {},
   "source": [
    "## Absorbing Markov Chain \n",
    "##### Keywords: Linear algebra, Markov Chain"
   ]
  },
  {
   "cell_type": "code",
   "execution_count": 3,
   "metadata": {
    "collapsed": true
   },
   "outputs": [],
   "source": [
    "%matplotlib inline\n",
    "import numpy as np\n",
    "from numpy import linalg as lin\n",
    "import os\n"
   ]
  },
  {
   "cell_type": "code",
   "execution_count": null,
   "metadata": {
    "collapsed": true
   },
   "outputs": [],
   "source": []
  },
  {
   "cell_type": "code",
   "execution_count": 4,
   "metadata": {
    "collapsed": true
   },
   "outputs": [],
   "source": [
    "\n",
    "## store current working directory\n",
    "cwd      = os.getcwd() \n",
    "\n",
    "## where we store data files\n",
    "datapath = cwd + u'/data/'"
   ]
  },
  {
   "cell_type": "markdown",
   "metadata": {},
   "source": [
    "### Consider a rat in a maze with 3 cells, indexed as 1,2,3 and the outside (freedom), indexed by 4 (that can only be reached via cell 3). \n",
    "### The rat starts initially in a given cell and then takes a move to another cell, continuing to do so until finally reaching freedom. \n",
    "\n",
    "### Goal: simulate rat moving around and count steps it takes to get to freedom\n",
    "<img src=\"4rat.png\" alt=\"Drawing\" style=\"width: 200px;\"/>\n"
   ]
  },
  {
   "cell_type": "code",
   "execution_count": 1,
   "metadata": {
    "collapsed": true
   },
   "outputs": [],
   "source": [
    "S = [1,2,3,4]\n",
    "import random\n",
    "import numpy as np\n",
    "\n",
    "################################################\n",
    "## start moving from location i, \n",
    "## number of steps it takes to get to freedom\n",
    "## recursion\n",
    "##############################################\n",
    "def steps(i):\n",
    "    print(i,'->')\n",
    "    if(i==1):\n",
    "        next_move = 2\n",
    "        return 1+steps(next_move)\n",
    "    \n",
    "    if(i == 2):\n",
    "        next_move = random.choice([1,3,4])\n",
    "        return 1+steps(next_move)\n",
    "        \n",
    "    if(i == 3):\n",
    "        next_move = 2\n",
    "        return 1+steps(next_move)\n",
    "    \n",
    "    if(i == 4):\n",
    "        return 0\n"
   ]
  },
  {
   "cell_type": "markdown",
   "metadata": {
    "collapsed": true
   },
   "source": [
    "### I want to count in general, \n",
    "### on average how many steps it takes to start from cell 2 and ends with freedom\n",
    "<img src=\"4rat.png\" alt=\"Drawing\" style=\"width: 200px;\"/>\n"
   ]
  },
  {
   "cell_type": "code",
   "execution_count": 5,
   "metadata": {
    "collapsed": true
   },
   "outputs": [],
   "source": [
    "## Run N = 100 times, each time compute average of 50 moves\n"
   ]
  },
  {
   "cell_type": "code",
   "execution_count": 4,
   "metadata": {},
   "outputs": [
    {
     "name": "stdout",
     "output_type": "stream",
     "text": [
      "start move from cell 1\n"
     ]
    },
    {
     "data": {
      "image/png": "[encoded data removed]",
      "text/plain": [
       "<matplotlib.figure.Figure at 0x104b80f28>"
      ]
     },
     "metadata": {},
     "output_type": "display_data"
    },
    {
     "name": "stdout",
     "output_type": "stream",
     "text": [
      "6.0276\n",
      "start move from cell 2\n"
     ]
    },
    {
     "data": {
      "image/png": "[encoded data removed]",
      "text/plain": [
       "<matplotlib.figure.Figure at 0x101a3abe0>"
      ]
     },
     "metadata": {},
     "output_type": "display_data"
    },
    {
     "name": "stdout",
     "output_type": "stream",
     "text": [
      "4.8844\n",
      "start move from cell 3\n"
     ]
    },
    {
     "data": {
      "image/png": "[encoded data removed]",
      "text/plain": [
       "<matplotlib.figure.Figure at 0x1064aae80>"
      ]
     },
     "metadata": {},
     "output_type": "display_data"
    },
    {
     "name": "stdout",
     "output_type": "stream",
     "text": [
      "6.0388\n"
     ]
    }
   ],
   "source": [
    "import matplotlib.pyplot as plt\n",
    "\n",
    "for start in [1,2,3]:\n",
    "    Run_total = np.zeros(100)\n",
    "    N_move    = 50\n",
    "    print(\"start move from cell\", start)\n",
    "    for each_run in range(100):\n",
    "        move = np.zeros(N_move)\n",
    "        for each_move in range(N_move):\n",
    "            move[each_move] = steps(start)\n",
    "        Run_total[each_run] = np.mean(move)\n",
    "    plt.hist(Run_total,bins = 10)\n",
    "    plt.show()\n",
    "    print(Run_total.mean())\n"
   ]
  },
  {
   "cell_type": "markdown",
   "metadata": {},
   "source": [
    "### We can also look at the 1-step transition matrix associated with this problem\n",
    "<img src=\"4rat.png\" alt=\"Drawing\" style=\"width: 200px;\"/>\n",
    "\n",
    "We have the following:\n",
    "$$\n",
    "P = \\begin{pmatrix}\n",
    "0 & 1 & 0 & 0\\\\\n",
    "1/3 & 0 & 1/3 & 1/3\\\\\n",
    "0 & 1 & 0 & 0\\\\\n",
    "0 & 0 & 0 & 1\\\\\n",
    "\\end{pmatrix}\n",
    "$$\n",
    "\n",
    "Then we can set up the canonical form we dicussed in class on Tuesday:\n",
    "$\\begin{pmatrix}\n",
    "Q &| &R\\\\\n",
    "O &| &I\\\\\n",
    "\\end{pmatrix}$"
   ]
  },
  {
   "cell_type": "code",
   "execution_count": 5,
   "metadata": {},
   "outputs": [
    {
     "name": "stdout",
     "output_type": "stream",
     "text": [
      "[[ 0.          1.          0.          0.        ]\n",
      " [ 0.33333333  0.          0.33333333  0.33333333]\n",
      " [ 0.          1.          0.          0.        ]\n",
      " [ 0.          0.          0.          1.        ]]\n"
     ]
    }
   ],
   "source": [
    "\n",
    "# Transition matrix\n",
    "S = [1,2,3,4]\n",
    "P = np.array(\n",
    "[[0,1,0,0],\n",
    " [1/3,0,1/3,1/3],\n",
    " [0,1,0,0],\n",
    " [0,0,0,1]\n",
    "]\n",
    ")\n",
    "print(P)"
   ]
  },
  {
   "cell_type": "code",
   "execution_count": 6,
   "metadata": {},
   "outputs": [
    {
     "name": "stdout",
     "output_type": "stream",
     "text": [
      "[[ 0.          1.          0.        ]\n",
      " [ 0.33333333  0.          0.33333333]\n",
      " [ 0.          1.          0.        ]]\n",
      "[[ 0.        ]\n",
      " [ 0.33333333]\n",
      " [ 0.        ]]\n",
      "[[ 1.         -1.          0.        ]\n",
      " [-0.33333333  1.         -0.33333333]\n",
      " [ 0.         -1.          1.        ]] <class 'numpy.matrixlib.defmatrix.matrix'>\n"
     ]
    }
   ],
   "source": [
    "## We have ONE absorption state\n",
    "##############################\n",
    "\n",
    "N_absorption = 1 \n",
    "\n",
    "\n",
    "## Q is the upper left square matrix of size\n",
    "## 4-1 by 4-1\n",
    "##############################\n",
    "Q = P[:len(S)-1,:len(S)-1]\n",
    "print(Q)\n",
    "\n",
    "## R is the upper left square matrix of size\n",
    "## 4-1 by 4-1\n",
    "##############################\n",
    "R = P[:len(S)-1,len(S)-1:]\n",
    "print(R)\n",
    "\n",
    "## We need to find N = (I - Q)^(-1)\n",
    "##############################\n",
    "diff = np.matrix(np.eye(4-1)-Q)\n",
    "print(diff,type(diff))\n",
    "N    = diff**(-1)"
   ]
  },
  {
   "cell_type": "markdown",
   "metadata": {},
   "source": [
    "###  the expected time of being absorbed is Nc\n",
    "where $c = (1,1,...,1)^T$\n",
    "### The probability of being absorbed by one of the absorption states is\n",
    "NR"
   ]
  },
  {
   "cell_type": "code",
   "execution_count": 7,
   "metadata": {},
   "outputs": [
    {
     "name": "stdout",
     "output_type": "stream",
     "text": [
      "Time to absorption is:\n",
      "  [[ 6.]\n",
      " [ 5.]\n",
      " [ 6.]]\n",
      "probability to absorption is:\n",
      " [[ 1.]\n",
      " [ 1.]\n",
      " [ 1.]]\n"
     ]
    }
   ],
   "source": [
    "c = np.zeros((len(N),1))+1\n",
    "Tabs = N*c\n",
    "Pabs = N*R\n",
    "print(\"Time to absorption is:\\n \", Tabs)\n",
    "print(\"probability to absorption is:\\n\", Pabs)"
   ]
  },
  {
   "cell_type": "markdown",
   "metadata": {},
   "source": [
    "### Drunkard's examples\n",
    "<img src=\"drunkard.png\" alt=\"Drawing\" style=\"width: 300px;\"/>\n",
    "\n",
    "similar as before, we can define \"steps\" and \"canonical forms\"\n",
    "\n",
    "###### Goal: simulate drunkard's moves and count steps it takes to get to freedom\n"
   ]
  },
  {
   "cell_type": "code",
   "execution_count": 11,
   "metadata": {},
   "outputs": [
    {
     "data": {
      "text/plain": [
       "4"
      ]
     },
     "execution_count": 11,
     "metadata": {},
     "output_type": "execute_result"
    }
   ],
   "source": [
    "S = [0,1,2,3,4]\n",
    "def steps_drunkard(i):\n",
    "    #print(i,'->')\n",
    "    if(i==3 or i==4):\n",
    "        return 0\n",
    "    if(i == 0):\n",
    "        next_move = np.random.choice([3,1])\n",
    "        return 1+ steps_drunkard(next_move)\n",
    "    if(i == 1):\n",
    "        next_move = np.random.choice([0,2])\n",
    "        return 1+ steps_drunkard(next_move)        \n",
    "    if(i == 2):\n",
    "        next_move = np.random.choice([1,4])\n",
    "        return 1+ steps_drunkard(next_move)   \n",
    "\n",
    "steps_drunkard(1)"
   ]
  },
  {
   "cell_type": "markdown",
   "metadata": {},
   "source": [
    "<img src=\"drunkard.png\" alt=\"Drawing\" style=\"width: 300px;\"/>\n",
    "### I want to count in general, on average how many steps it takes to start from a block  and ends with home or bar\n"
   ]
  },
  {
   "cell_type": "code",
   "execution_count": 12,
   "metadata": {
    "collapsed": true
   },
   "outputs": [],
   "source": [
    "N_exp         = 100\n",
    "N_simulations = 50\n",
    "N_s           = 5\n",
    "experiments = np.zeros((N_s,N_exp))\n",
    "\n",
    "for block in S:\n",
    "    for i in range(N_exp):\n",
    "        each_experiment = np.zeros(N_simulations)\n",
    "        for j in range(N_simulations):\n",
    "            each_experiment[j] = steps_drunkard(block)\n",
    "    \n",
    "        experiments[block,i] = np.mean(each_experiment)\n"
   ]
  },
  {
   "cell_type": "code",
   "execution_count": 18,
   "metadata": {},
   "outputs": [
    {
     "data": {
      "image/png": "[encoded data removed]",
      "text/plain": [
       "<matplotlib.figure.Figure at 0x1076723c8>"
      ]
     },
     "metadata": {},
     "output_type": "display_data"
    },
    {
     "data": {
      "image/png": "[encoded data removed]",
      "text/plain": [
       "<matplotlib.figure.Figure at 0x107531f60>"
      ]
     },
     "metadata": {},
     "output_type": "display_data"
    },
    {
     "data": {
      "image/png": "[encoded data removed]",
      "text/plain": [
       "<matplotlib.figure.Figure at 0x1073faba8>"
      ]
     },
     "metadata": {},
     "output_type": "display_data"
    },
    {
     "data": {
      "image/png": "[encoded data removed]",
      "text/plain": [
       "<matplotlib.figure.Figure at 0x106efc9b0>"
      ]
     },
     "metadata": {},
     "output_type": "display_data"
    },
    {
     "data": {
      "image/png": "[encoded data removed]",
      "text/plain": [
       "<matplotlib.figure.Figure at 0x107583198>"
      ]
     },
     "metadata": {},
     "output_type": "display_data"
    }
   ],
   "source": [
    "import matplotlib.pyplot as plt\n",
    "\n",
    "for block in S:\n",
    "    plt.hist(experiments[block,:],bins = 5)\n",
    "    plt.title('start at block' + str(block)+'mean is ' + str(np.mean(experiments[block,:])))\n",
    "    plt.show()"
   ]
  },
  {
   "cell_type": "markdown",
   "metadata": {},
   "source": [
    "<img src=\"drunkard.png\" alt=\"Drawing\" style=\"width: 300px;\"/>\n"
   ]
  },
  {
   "cell_type": "code",
   "execution_count": null,
   "metadata": {
    "collapsed": true
   },
   "outputs": [],
   "source": []
  },
  {
   "cell_type": "markdown",
   "metadata": {},
   "source": [
    "### Now the question remains: given a matrix $A$, in general, how to determine if it is a transition matrix for an absorbing Markov Chain?\n",
    "To be a transition matrix $A$ needs to satisfy:\n",
    " 1. $A$ needs to be square matrix\n",
    " 1. $A$ needs to have all entries $\\in[0,1]$ \n",
    " 1. Each row of $A$ should have summation 1\n",
    "\n",
    "Then to be an absorbing Markov Chain's transition matrix, $A$ needs to satisfy:\n",
    "1. $A$ has absorption state(s)\n",
    "1. For all other states, there exist at least one path from that state to some absorption states"
   ]
  },
  {
   "cell_type": "markdown",
   "metadata": {},
   "source": [
    "First, let's write out a function to determine if a matrix is Markov\n",
    "To be a transition matrix $A$ needs to satisfy:\n",
    " 1. $A$ needs to be square matrix\n",
    " 1. $A$ needs to have all entries $\\in[0,1]$ \n",
    " 1. Each row of $A$ should have summation 1"
   ]
  },
  {
   "cell_type": "code",
   "execution_count": 11,
   "metadata": {
    "collapsed": true
   },
   "outputs": [],
   "source": [
    "def if_markov(A):\n",
    "    ##$A$ needs to be square matrix\n",
    "    ##################################\n",
    "    shape = A.shape\n",
    "    if(len(shape)!=2): ## cannot be an m by n by r matrix\n",
    "        print('shape wrong')\n",
    "        return False\n",
    "    \n",
    "    if(shape[0] != shape[1]): ## need to be square matrix\n",
    "        print('shape wrong')\n",
    "        return False\n",
    "    \n",
    "    ## $A$ needs to have all entries \\in[0,1] \n",
    "    ## np.all -- if all values inside are True\n",
    "    ## np.logical_and -- compare entrywise logical and\n",
    "    ################################################\n",
    "    val = np.all(np.logical_and(A >= 0,A<=1))\n",
    "    if(val!=True):\n",
    "        print('not 0 1')\n",
    "        return False\n",
    "    \n",
    "    ## Each row of $A$ should have summation 1\n",
    "    ################################################\n",
    "    rsum = np.round(A.sum(axis = 1),5)\n",
    "    val = np.all(rsum == 1.0)\n",
    "\n",
    "    return val\n"
   ]
  },
  {
   "cell_type": "code",
   "execution_count": null,
   "metadata": {
    "collapsed": true
   },
   "outputs": [],
   "source": []
  },
  {
   "cell_type": "markdown",
   "metadata": {},
   "source": [
    "Then to be an absorbing Markov Chain's transition matrix, $A$ needs to satisfy:\n",
    "1. $A$ has absorption state(s)\n",
    "1. For all other states, there exist at least one path from that state to some absorption states"
   ]
  },
  {
   "cell_type": "code",
   "execution_count": 22,
   "metadata": {
    "collapsed": true
   },
   "outputs": [],
   "source": [
    "def swap(A,i,j):\n",
    "    ## swap position of i,j row and columes of A\n",
    "    r = np.copy(A[j,:])\n",
    "    A[j,:] = A[i,:]\n",
    "    A[i,:] = r\n",
    "    \n",
    "    c = np.copy(A[:,j])\n",
    "    A[:,j] = A[:,i]\n",
    "    A[:,i] = c\n",
    "    \n",
    "\n",
    "## return value is the number of absorption states\n",
    "def if_absmarkov(A):\n",
    "    \n",
    "    ## determine A is markov\n",
    "    ##################################\n",
    "\n",
    "    \n",
    "    ## determine if diagonal has 1.\n",
    "    ## np.any: return if there is at least one True\n",
    "    ##################################\n",
    "\n",
    "    \n",
    "    ## Now we need to transform \n",
    "    ## A into the canonical form\n",
    "    ##################################\n",
    "\n",
    "    \n",
    "    ## Check if A is already in canonical form\n",
    "    ##########################################\n",
    "\n",
    "    \n",
    "        \n",
    "    ## Transform A into canonical form\n",
    "    ##########################################        \n",
    "\n",
    "    \n",
    "            \n",
    "    ## For the canonical form, we can try to see if \n",
    "    ## the upper left Q, if (I-Q) is invertible,\n",
    "    ## That is to see if all eigenvalues of (I-Q) are nonzero\n",
    "    ##########################################  \n",
    "\n",
    "    \n"
   ]
  },
  {
   "cell_type": "code",
   "execution_count": null,
   "metadata": {
    "collapsed": true
   },
   "outputs": [],
   "source": [
    "\n"
   ]
  },
  {
   "cell_type": "code",
   "execution_count": null,
   "metadata": {},
   "outputs": [],
   "source": []
  },
  {
   "cell_type": "markdown",
   "metadata": {},
   "source": [
    "## Once A is transformed into canonical form, we can compute the time to absorption and probability to be absorbed by each state"
   ]
  },
  {
   "cell_type": "code",
   "execution_count": null,
   "metadata": {
    "collapsed": true
   },
   "outputs": [],
   "source": [
    "\n"
   ]
  },
  {
   "cell_type": "code",
   "execution_count": null,
   "metadata": {},
   "outputs": [],
   "source": []
  },
  {
   "cell_type": "code",
   "execution_count": null,
   "metadata": {
    "collapsed": true
   },
   "outputs": [],
   "source": []
  },
  {
   "cell_type": "code",
   "execution_count": null,
   "metadata": {
    "collapsed": true
   },
   "outputs": [],
   "source": []
  }
 ],
 "metadata": {
  "anaconda-cloud": {},
  "kernelspec": {
   "display_name": "Python 3",
   "language": "python",
   "name": "python3"
  },
  "language_info": {
   "codemirror_mode": {
    "name": "ipython",
    "version": 3
   },
   "file_extension": ".py",
   "mimetype": "text/x-python",
   "name": "python",
   "nbconvert_exporter": "python",
   "pygments_lexer": "ipython3",
   "version": "3.6.0"
  }
 },
 "nbformat": 4,
 "nbformat_minor": 1
}
