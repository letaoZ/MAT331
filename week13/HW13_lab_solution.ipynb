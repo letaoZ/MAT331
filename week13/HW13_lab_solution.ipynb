{
 "cells": [
  {
   "cell_type": "markdown",
   "metadata": {},
   "source": [
    "##### Keywords: Linear algebra, Markov Chain"
   ]
  },
  {
   "cell_type": "code",
   "execution_count": 1,
   "metadata": {
    "collapsed": true
   },
   "outputs": [],
   "source": [
    "%matplotlib inline\n",
    "import numpy as np\n",
    "from numpy import linalg as lin\n",
    "import os\n"
   ]
  },
  {
   "cell_type": "markdown",
   "metadata": {
    "collapsed": true
   },
   "source": [
    "## Part 1: continue from HW12_lab\n",
    "1. From HW12_lab, you should be able to load rat.txt and transform it into a matrix $P$\n",
    "1. For the matrix $P$, write code to compute and PRINT OUT its time to absorption, and the corresponding probability to be absorbed by absorption state(s) via canonical form of $P$."
   ]
  },
  {
   "cell_type": "code",
   "execution_count": 2,
   "metadata": {},
   "outputs": [
    {
     "name": "stdout",
     "output_type": "stream",
     "text": [
      "[[ 0.          0.5         0.5         0.          0.        ]\n",
      " [ 0.5         0.          0.          0.5         0.        ]\n",
      " [ 0.5         0.          0.          0.5         0.        ]\n",
      " [ 0.          0.33333333  0.33333333  0.          0.33333333]\n",
      " [ 0.          0.          0.          0.          1.        ]]\n"
     ]
    }
   ],
   "source": [
    "## just to load the matrix P\n",
    "##############################\n",
    "cwd      = os.getcwd() \n",
    "datapath = cwd + u'/data/'\n",
    "filename = datapath+u'rat.txt'\n",
    "P        = np.matrix( np.loadtxt(filename,delimiter= ',') )\n",
    "print(P)\n"
   ]
  },
  {
   "cell_type": "code",
   "execution_count": 3,
   "metadata": {},
   "outputs": [
    {
     "name": "stdout",
     "output_type": "stream",
     "text": [
      "Q\n",
      "[[ 0.          0.5         0.5         0.        ]\n",
      " [ 0.5         0.          0.          0.5       ]\n",
      " [ 0.5         0.          0.          0.5       ]\n",
      " [ 0.          0.33333333  0.33333333  0.        ]]\n",
      "R\n",
      "[[ 0.        ]\n",
      " [ 0.        ]\n",
      " [ 0.        ]\n",
      " [ 0.33333333]]\n",
      "N\n",
      "[[ 3.99999994  2.99999994  2.99999994  2.99999994]\n",
      " [ 2.99999994  3.49999994  2.49999994  2.99999994]\n",
      " [ 2.99999994  2.49999994  3.49999994  2.99999994]\n",
      " [ 1.99999994  1.99999994  1.99999994  2.99999994]]\n"
     ]
    }
   ],
   "source": [
    "## We have 5 states in total\n",
    "## We have ONE absorption state\n",
    "##############################\n",
    "\n",
    "N_absorption = 1 \n",
    "\n",
    "\n",
    "## Q is the upper left square matrix of size\n",
    "## 5-1 by 5-1\n",
    "##############################\n",
    "Q = P[:len(P)-1,:len(P)-1]\n",
    "print('Q')\n",
    "print(Q)\n",
    "\n",
    "## R is the upper Right matrix of size\n",
    "## 5-1 by 1\n",
    "##############################\n",
    "R = P[:len(P)-1,len(P)-1:]\n",
    "print('R')\n",
    "print(R)\n",
    "\n",
    "## We need to find N = (I - Q)^(-1)\n",
    "##############################\n",
    "diff = np.matrix(np.eye(5-1)-Q)\n",
    "N    = diff**(-1)\n",
    "print('N')\n",
    "print(N)"
   ]
  },
  {
   "cell_type": "code",
   "execution_count": 4,
   "metadata": {},
   "outputs": [
    {
     "name": "stdout",
     "output_type": "stream",
     "text": [
      "absorption Probability \n",
      "[[ 1.]\n",
      " [ 1.]\n",
      " [ 1.]\n",
      " [ 1.]]\n",
      "absorption Probability \n",
      "[[ 13.]\n",
      " [ 12.]\n",
      " [ 12.]\n",
      " [  9.]]\n"
     ]
    }
   ],
   "source": [
    "## absorption Probability  \n",
    "##############################\n",
    "absP = N*R\n",
    "absP = np.round(absP,3)\n",
    "print('absorption Probability ')\n",
    "print(absP)\n",
    "\n",
    "## Time to Absorption  \n",
    "##############################\n",
    "\n",
    "absT =  N*np.ones((len(P)-1,1))\n",
    "absT =  np.round(absT,3)\n",
    "\n",
    "print('absorption Probability ')\n",
    "print(absT)\n"
   ]
  },
  {
   "cell_type": "markdown",
   "metadata": {},
   "source": [
    "##  Part 2: continue from Lab12 and HW12_lab\n",
    "<img src=\"5rat.png\" alt=\"Drawing\" style=\"width: 100px;\"/>\n",
    "$\\textbf{First}$, write a function, called $\\textbf{steps()}$ (similar to steps() in lab12.ipynb) to simulate rat's moves provided by the above picture (same as written homework description). \n",
    "\n",
    "The function steps()'s input should be an integer corresponds to the starting cell label (i.e. 1,2,3,4,5); \n",
    "\n",
    "output should the number of steps it takes for the rat to reach freedom from the input cell. Note that this needs to be a simulation run of the rat's moves.\n",
    "\n",
    "\n",
    "While running the function, it should print out the path of the rat's move.\n",
    "\n",
    "Now, run steps(2) 10 times, your code should print out 10 different paths, and for each path the total number of steps.\n",
    "\n",
    "\n",
    "$\\textbf{Second}$, you need to run simulations to calculate the number of steps, on average, it takes the rat to get to freedom from a given cell\n",
    "1. Turn off \"print path\" feature in your steps function. \n",
    "1. for each starting cell, run $N = 500$ experiments and save it as an array of size 500 (say name it arr). Each experiment corresponds to an average of 100 simulations i.e. run the function steps(starting cell) 100 times, and compute its average. Then store it to arr. Then plot the histogram of the arr, and print the mean of the arr.\n",
    "\n",
    "For this part, you should printout 5 histograms and 5 means"
   ]
  },
  {
   "cell_type": "code",
   "execution_count": 5,
   "metadata": {},
   "outputs": [],
   "source": [
    "## Note: \n",
    "## Here I treat 0- as \"1\" labeld in the picture\n",
    "##        treat 1- as \"2\" labeld in the picture\n",
    "##        treat 2- as \"3\" labeld in the picture\n",
    "## ...    treat 4 as the freedom -- absorption state\n",
    "######################################################\n",
    "\n",
    "S = [0,1,2,3,4]\n",
    "def steps(i):\n",
    "    #print(i,'->')\n",
    "    if(i==4):\n",
    "        return 0\n",
    "    if(i == 0):\n",
    "        next_move = np.random.choice([1,2])\n",
    "        return 1+ steps(next_move)\n",
    "    if(i == 1 or  i== 2):\n",
    "        next_move = np.random.choice([0,3])\n",
    "        return 1+ steps(next_move)        \n",
    "    if(i==3):\n",
    "        next_move = np.random.choice([1,2,4])\n",
    "        return 1+ steps(next_move)   "
   ]
  },
  {
   "cell_type": "code",
   "execution_count": 6,
   "metadata": {},
   "outputs": [],
   "source": [
    "## Experiments\n",
    "####################\n",
    "N_exp         = 500\n",
    "N_simulations = 100\n",
    "N_s           = len(S)\n",
    "experiments = np.zeros((N_s,N_exp))\n",
    "\n",
    "for block in S:\n",
    "    for i in range(N_exp):\n",
    "        each_experiment = np.zeros(N_simulations)\n",
    "        for j in range(N_simulations):\n",
    "            each_experiment[j] = steps(block)\n",
    "    \n",
    "        experiments[block,i] = np.mean(each_experiment)\n"
   ]
  },
  {
   "cell_type": "code",
   "execution_count": 7,
   "metadata": {},
   "outputs": [
    {
     "name": "stdout",
     "output_type": "stream",
     "text": [
      "Time to absorption\n",
      " [[ 13.]\n",
      " [ 12.]\n",
      " [ 12.]\n",
      " [  9.]]\n"
     ]
    },
    {
     "data": {
      "image/png": "[encoded data removed]",
      "text/plain": [
       "<matplotlib.figure.Figure at 0x106366518>"
      ]
     },
     "metadata": {},
     "output_type": "display_data"
    },
    {
     "data": {
      "image/png": "[encoded data removed]",
      "text/plain": [
       "<matplotlib.figure.Figure at 0x106419fd0>"
      ]
     },
     "metadata": {},
     "output_type": "display_data"
    },
    {
     "data": {
      "image/png": "[encoded data removed]",
      "text/plain": [
       "<matplotlib.figure.Figure at 0x106426780>"
      ]
     },
     "metadata": {},
     "output_type": "display_data"
    },
    {
     "data": {
      "image/png": "[encoded data removed]",
      "text/plain": [
       "<matplotlib.figure.Figure at 0x10656fcf8>"
      ]
     },
     "metadata": {},
     "output_type": "display_data"
    },
    {
     "data": {
      "image/png": "[encoded data removed]",
      "text/plain": [
       "<matplotlib.figure.Figure at 0x10659c198>"
      ]
     },
     "metadata": {},
     "output_type": "display_data"
    }
   ],
   "source": [
    "## Histogram -- the print out should be the same as Time to absorption\n",
    "####################\n",
    "import matplotlib.pyplot as plt\n",
    "\n",
    "print('Time to absorption\\n',absT)\n",
    "for block in S:\n",
    "    plt.hist(experiments[block,:],bins = 5)\n",
    "    plt.title('start at block' + str(block)+' mean is ' + str(np.mean(experiments[block,:])))\n",
    "    plt.show()\n",
    "    \n",
    "    \n"
   ]
  },
  {
   "cell_type": "markdown",
   "metadata": {},
   "source": [
    "# part 3\n",
    "## Write a function, which can do the following:\n",
    "1. The function's input is a matrix A\n",
    "1. The function's return is 0 if $A$ is not an absorbing markov chain's transition matrix\n",
    "1. The function's return is a positive integer $K$ if $A$ is the transition matrix of an absorbing markov chain with $K$ absorption states. \n",
    "1. Meanwhile, the function should be able to transform $A$ into the canonical form if $A$ is the transition matrix of an absorbing markov chain with $K$ absorption states\n",
    "\n",
    "## Write a function, which can do the following:\n",
    "1. The function's input is a matrix A\n",
    "1. The function's return is a pair of matrices T and P.\n",
    "1. If $A$ is the transition matrix of an absorbing markov chain, then T is the time to absorption; and P is the probability matrix of absorption\n",
    "1. If $A$ is not the transition matrix for an absorbing markov chain, then assign T = -1, and P = -1. Return the pair -1,-1\n",
    "\n"
   ]
  },
  {
   "cell_type": "code",
   "execution_count": null,
   "metadata": {
    "collapsed": true
   },
   "outputs": [],
   "source": []
  },
  {
   "cell_type": "code",
   "execution_count": 8,
   "metadata": {
    "collapsed": true
   },
   "outputs": [],
   "source": [
    "def if_markov(A):\n",
    "    ##$A$ needs to be square matrix\n",
    "    ##################################\n",
    "    shape = A.shape\n",
    "    if(len(shape)!=2): ## cannot be an m by n by r matrix\n",
    "        print('shape wrong')\n",
    "        return False\n",
    "    \n",
    "    if(shape[0] != shape[1]): ## need to be square matrix\n",
    "        print('shape wrong')\n",
    "        return False\n",
    "    \n",
    "    ## $A$ needs to have all entries \\in[0,1] \n",
    "    ## np.all -- if all values inside are True\n",
    "    ## np.logical_and -- compare entrywise logical and\n",
    "    ################################################\n",
    "    val = np.all(np.logical_and(A >= 0,A<=1))\n",
    "    if(val!=True):\n",
    "        print('not 0 1')\n",
    "        return False\n",
    "    \n",
    "    ## Each row of $A$ should have summation 1\n",
    "    ################################################\n",
    "    rsum = np.round(A.sum(axis = 1),5)\n",
    "    val = np.all(rsum == 1.0)\n",
    "\n",
    "    return val\n"
   ]
  },
  {
   "cell_type": "code",
   "execution_count": 9,
   "metadata": {
    "collapsed": true
   },
   "outputs": [],
   "source": [
    "def swap(A,i,j):\n",
    "    ## swap position of i,j row and columes of A\n",
    "    r = np.copy(A[j,:])\n",
    "    A[j,:] = A[i,:]\n",
    "    A[i,:] = r\n",
    "    \n",
    "    c = np.copy(A[:,j])\n",
    "    A[:,j] = A[:,i]\n",
    "    A[:,i] = c\n",
    "    \n",
    "\n",
    "## return value is the number of absorption states\n",
    "def if_absmarkov(A):\n",
    "    if(if_markov(A) ==  False):\n",
    "        print('not markov')\n",
    "        return 0\n",
    "    ## determine if diagonal has 1.\n",
    "    ## np.any: return if there is at least one True\n",
    "    ##################################\n",
    "    diag_entry = (np.diag(A)==1)\n",
    "    if(np.any(diag_entry) == False):\n",
    "        print('no absorption')\n",
    "\n",
    "        return 0\n",
    "    \n",
    "    ## Now we need to transform \n",
    "    ## A into the canonical form\n",
    "    ##################################\n",
    "    S     = np.arange(len(A))\n",
    "    N_abs = np.sum(diag_entry)\n",
    "    pos   = len(A)-1\n",
    "    \n",
    "    ## Check if A is already in canonical form\n",
    "    ##########################################\n",
    "    while(pos > len(A)-1-N_abs):\n",
    "        if(diag_entry[pos] == True):\n",
    "            pos -= 1\n",
    "        else:\n",
    "            pos = -2\n",
    "            break\n",
    "            \n",
    "    if(pos == -2):\n",
    "        print('Not canonical form')\n",
    "    else:\n",
    "        print('canonical form')\n",
    "        \n",
    "    ## Transform A into canonical form\n",
    "    ##########################################        \n",
    "    abs_pos = S[diag_entry] ## absorption states\n",
    "    otherp  = S[~diag_entry]\n",
    "    bottem  = -1\n",
    "    for j in abs_pos:\n",
    "        if( j < len(A)-N_abs):\n",
    "            swap(A,j,otherp[bottem])\n",
    "            bottem -= 1\n",
    "        else:\n",
    "            break\n",
    "            \n",
    "    ## For the canonical form, we can try to see if \n",
    "    ## the upper left Q, if (I-Q) is invertible,\n",
    "    ## That is to see if all eigenvalues of (I-Q) are nonzero\n",
    "    ##########################################  \n",
    "    if(N_abs<len(A)):\n",
    "        I    = np.eye(len(A) - N_abs)\n",
    "        test = I - A[:len(A) - N_abs,:len(A)-N_abs]\n",
    "        eigv = np.round(lin.eigvals(test),5)\n",
    "        if(np.any(eigv==0)):\n",
    "            return 0\n",
    "    \n",
    "    return N_abs\n",
    "\n"
   ]
  },
  {
   "cell_type": "code",
   "execution_count": 10,
   "metadata": {},
   "outputs": [
    {
     "name": "stdout",
     "output_type": "stream",
     "text": [
      "Q\n",
      "[[ 0.          0.5         0.5         0.        ]\n",
      " [ 0.5         0.          0.          0.5       ]\n",
      " [ 0.5         0.          0.          0.5       ]\n",
      " [ 0.          0.33333333  0.33333333  0.        ]]\n",
      "R\n",
      "[[ 0.        ]\n",
      " [ 0.        ]\n",
      " [ 0.        ]\n",
      " [ 0.33333333]]\n",
      "N\n",
      "[[ 3.99999994  2.99999994  2.99999994  2.99999994]\n",
      " [ 2.99999994  3.49999994  2.49999994  2.99999994]\n",
      " [ 2.99999994  2.49999994  3.49999994  2.99999994]\n",
      " [ 1.99999994  1.99999994  1.99999994  2.99999994]]\n"
     ]
    }
   ],
   "source": [
    "Q = P[:len(P)-1,:len(P)-1]\n",
    "print('Q')\n",
    "print(Q)\n",
    "\n",
    "## R is the upper Right matrix of size\n",
    "## 5-1 by 1\n",
    "##############################\n",
    "R = P[:len(P)-1,len(P)-1:]\n",
    "print('R')\n",
    "print(R)\n",
    "\n",
    "## We need to find N = (I - Q)^(-1)\n",
    "##############################\n",
    "diff = np.matrix(np.eye(5-1)-Q)\n",
    "N    = diff**(-1)\n",
    "print('N')\n",
    "print(N)"
   ]
  },
  {
   "cell_type": "code",
   "execution_count": 11,
   "metadata": {
    "collapsed": true
   },
   "outputs": [],
   "source": [
    "## return value is a pair of matrix\n",
    "def decompose(A):\n",
    "    N_abs = if_absmarkov(A)\n",
    "    if(N_abs <= 0):\n",
    "        return -1, -1\n",
    "    \n",
    "    Len   = len(A)\n",
    "    A     = np.matrix(A)\n",
    "    if(Len == N_abs):\n",
    "        return(np.zeros((Len,1)), A)\n",
    "    \n",
    "    Q = A[:Len-N_abs,:Len - N_abs ]\n",
    "    R = A[:Len-N_abs, Len-N_abs: ]\n",
    "    diff = np.matrix(np.eye(Len-N_abs)-Q)\n",
    "    N    = diff**(-1)\n",
    "    absP = N*R\n",
    "    absT = N*np.ones((Len-N_abs,1))\n",
    "    return absT, absP"
   ]
  },
  {
   "cell_type": "markdown",
   "metadata": {},
   "source": [
    "## You may first use the matrix $P$ we stated in question 1. To see if you obtain the same result by using the functions defined above.\n"
   ]
  },
  {
   "cell_type": "code",
   "execution_count": 12,
   "metadata": {},
   "outputs": [
    {
     "name": "stdout",
     "output_type": "stream",
     "text": [
      "[[ 0.          0.5         0.5         0.          0.        ]\n",
      " [ 0.5         0.          0.          0.5         0.        ]\n",
      " [ 0.5         0.          0.          0.5         0.        ]\n",
      " [ 0.          0.33333333  0.33333333  0.          0.33333333]\n",
      " [ 0.          0.          0.          0.          1.        ]]\n",
      "canonical form\n",
      "[[ 12.99999976]\n",
      " [ 11.99999976]\n",
      " [ 11.99999976]\n",
      " [  8.99999976]]\n",
      "[[ 0.99999997]\n",
      " [ 0.99999997]\n",
      " [ 0.99999997]\n",
      " [ 0.99999997]]\n"
     ]
    }
   ],
   "source": [
    "print(P)\n",
    "absT, absP = decompose(P)\n",
    "print(absT)\n",
    "print(absP)"
   ]
  },
  {
   "cell_type": "markdown",
   "metadata": {},
   "source": [
    "### if your input matrix $A$ is\n",
    "$$\n",
    "\\begin{pmatrix}\n",
    " 0.          &0.1     &    0.2    &     0.3     &    0.4  \\\\\n",
    " 0.14285714  &0.17142857  &0.2         &0.22857143  &0.25714286 \\\\\n",
    " 0.          &0.          &1.          &0.          &0.        \\\\\n",
    " 0.          &0.          &0.          &1.          &0.        \\\\\n",
    " 0.18181818  &0.19090909  &0.2         &0.20909091  &0.21818182\\\\\n",
    "\\end{pmatrix}\n",
    "$$\n",
    "\n",
    "Then the output of the first function is 2\n",
    "\n",
    "The output for the second function is:\n",
    "$$\n",
    "\\begin{matrix}\n",
    "[[ 2.17005076],\\\\\n",
    " [ 2.30964467] \\\\\n",
    " [ 2.34771574]]\\\\\n",
    "\\end{matrix}~~~~~~~\n",
    "\\begin{matrix}\n",
    "[[ 0.56598985  0.43401015]\\\\\n",
    " [ 0.53807107  0.46192893]\\\\\n",
    " [ 0.53045685  0.46954315]]\\\\\n",
    "\\end{matrix}\n",
    "$$\n"
   ]
  },
  {
   "cell_type": "code",
   "execution_count": 13,
   "metadata": {},
   "outputs": [
    {
     "name": "stdout",
     "output_type": "stream",
     "text": [
      "[[ 0.          0.1         0.2         0.3         0.4       ]\n",
      " [ 0.14285714  0.17142857  0.2         0.22857143  0.25714286]\n",
      " [ 0.          0.          1.          0.          0.        ]\n",
      " [ 0.          0.          0.          1.          0.        ]\n",
      " [ 0.18181818  0.19090909  0.2         0.20909091  0.21818182]]\n",
      "Not canonical form\n",
      "[[ 2.17005076]\n",
      " [ 2.30964467]\n",
      " [ 2.34771574]]\n",
      "[[ 0.56598985  0.43401015]\n",
      " [ 0.53807107  0.46192893]\n",
      " [ 0.53045685  0.46954315]]\n"
     ]
    }
   ],
   "source": [
    "## Please don't change these matrices. \n",
    "## You will use them to test your results\n",
    "##########################################\n",
    "\n",
    "A = np.arange(25).reshape(5,5)\n",
    "A = A/A.sum(axis = 1).reshape((5,1))\n",
    "A[2,] = [0,0,1,0,0]\n",
    "A[3,] = [0,0,0,1,0]\n",
    "\n",
    "print(A)\n",
    "absT, absP = decompose(A)\n",
    "print(absT)\n",
    "print(absP)"
   ]
  },
  {
   "cell_type": "markdown",
   "metadata": {},
   "source": [
    "### if your input matrix $B$ is B = np.eye(4)\n",
    "Then the output of the first function is: 4\n",
    "\n",
    "The output of the second function is:\n",
    "$$\n",
    "\\begin{matrix}\n",
    "[[ 0.],\\\\\n",
    "[ 0.],\\\\\n",
    "[ 0.],\\\\\n",
    "[ 0.]]\\\\\n",
    "\\end{matrix}~~~~~~~\n",
    "\\begin{matrix}\n",
    "[[ 1.,  0.,  0.,  0.],\\\\\n",
    "[  0., 1.,  0.,  0.],\\\\\n",
    "[ 0.,  0., 1.,  0.],\\\\\n",
    "[ 0.,  0.,  0.,1.]]\\\\\n",
    "\\end{matrix}\n",
    "$$\n"
   ]
  },
  {
   "cell_type": "code",
   "execution_count": 14,
   "metadata": {},
   "outputs": [
    {
     "name": "stdout",
     "output_type": "stream",
     "text": [
      "[[ 1.  0.  0.  0.]\n",
      " [ 0.  1.  0.  0.]\n",
      " [ 0.  0.  1.  0.]\n",
      " [ 0.  0.  0.  1.]]\n",
      "canonical form\n",
      "[[ 0.]\n",
      " [ 0.]\n",
      " [ 0.]\n",
      " [ 0.]]\n",
      "[[ 1.  0.  0.  0.]\n",
      " [ 0.  1.  0.  0.]\n",
      " [ 0.  0.  1.  0.]\n",
      " [ 0.  0.  0.  1.]]\n"
     ]
    }
   ],
   "source": [
    "B = np.eye(4)\n",
    "print(B)\n",
    "absT, absP = decompose(B)\n",
    "print(absT)\n",
    "print(absP)"
   ]
  },
  {
   "cell_type": "markdown",
   "metadata": {},
   "source": [
    "### if your input matrix $C$ is C = np.eye(4)+1\n",
    "Then the output of the first function is: 0\n",
    "\n",
    "The output of the second function is: -1,-1"
   ]
  },
  {
   "cell_type": "code",
   "execution_count": 15,
   "metadata": {},
   "outputs": [
    {
     "name": "stdout",
     "output_type": "stream",
     "text": [
      "[[ 2.  1.  1.  1.]\n",
      " [ 1.  2.  1.  1.]\n",
      " [ 1.  1.  2.  1.]\n",
      " [ 1.  1.  1.  2.]]\n",
      "not 0 1\n",
      "not markov\n",
      "-1\n",
      "-1\n"
     ]
    }
   ],
   "source": [
    "C = np.eye(4)+1\n",
    "print(C)\n",
    "absT, absP = decompose(C)\n",
    "print(absT)\n",
    "print(absP)"
   ]
  },
  {
   "cell_type": "markdown",
   "metadata": {},
   "source": [
    "### if your input matrix $D$ is D = np.array([ [0.5, 0.5, 0], [0.6, 0.4, 0],[0, 0, 1]   ])\n",
    "Then the output of the first function is: 0\n",
    "\n",
    "The output of the second function is: -1,-1"
   ]
  },
  {
   "cell_type": "code",
   "execution_count": 16,
   "metadata": {},
   "outputs": [
    {
     "name": "stdout",
     "output_type": "stream",
     "text": [
      "[[ 0.5  0.5  0. ]\n",
      " [ 0.6  0.4  0. ]\n",
      " [ 0.   0.   1. ]]\n",
      "canonical form\n",
      "-1\n",
      "-1\n"
     ]
    }
   ],
   "source": [
    "\n",
    "D = np.array([ \n",
    "    [0.5, 0.5, 0], \n",
    "    [0.6, 0.4, 0],\n",
    "    [0, 0, 1]   ])\n",
    "\n",
    "print(D)\n",
    "absT, absP = decompose(D)\n",
    "print(absT)\n",
    "print(absP)"
   ]
  },
  {
   "cell_type": "code",
   "execution_count": 45,
   "metadata": {},
   "outputs": [],
   "source": []
  },
  {
   "cell_type": "code",
   "execution_count": null,
   "metadata": {},
   "outputs": [],
   "source": []
  },
  {
   "cell_type": "code",
   "execution_count": null,
   "metadata": {
    "collapsed": true
   },
   "outputs": [],
   "source": []
  }
 ],
 "metadata": {
  "anaconda-cloud": {},
  "kernelspec": {
   "display_name": "Python 3",
   "language": "python",
   "name": "python3"
  },
  "language_info": {
   "codemirror_mode": {
    "name": "ipython",
    "version": 3
   },
   "file_extension": ".py",
   "mimetype": "text/x-python",
   "name": "python",
   "nbconvert_exporter": "python",
   "pygments_lexer": "ipython3",
   "version": "3.6.0"
  }
 },
 "nbformat": 4,
 "nbformat_minor": 1
}
