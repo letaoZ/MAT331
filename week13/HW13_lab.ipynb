{
 "cells": [
  {
   "cell_type": "markdown",
   "metadata": {},
   "source": [
    "# Due Apr 27 at 5pm\n",
    "# Please submit your homework with file name: HW13_Lastname_firstname.ipynb\n",
    "\n",
    "# You should complete the homework on your own\n",
    "\n",
    "\n",
    "##### Keywords: Linear algebra, Markov Chain"
   ]
  },
  {
   "cell_type": "code",
   "execution_count": 2,
   "metadata": {
    "collapsed": true
   },
   "outputs": [],
   "source": [
    "%matplotlib inline\n",
    "import numpy as np\n",
    "from numpy import linalg as lin\n",
    "import os\n"
   ]
  },
  {
   "cell_type": "markdown",
   "metadata": {
    "collapsed": true
   },
   "source": [
    "## Part 1: continue from HW12_lab\n",
    "1. From HW12_lab, you should be able to load rat.txt and transform it into a matrix $P$\n",
    "1. For the matrix $P$, write code to compute and PRINT OUT its time to absorption, and the corresponding probability to be absorbed by absorption state(s) via canonical form of $P$."
   ]
  },
  {
   "cell_type": "code",
   "execution_count": 3,
   "metadata": {
    "collapsed": true
   },
   "outputs": [],
   "source": [
    "# Your code"
   ]
  },
  {
   "cell_type": "markdown",
   "metadata": {},
   "source": [
    "##  Part 2: continue from Lab12 and HW12_lab\n",
    "<img src=\"5rat.png\" alt=\"Drawing\" style=\"width: 200px;\"/>\n",
    "$\\textbf{First}$, write a function, called $\\textbf{steps()}$ (similar to steps() in lab12.ipynb) to simulate rat's moves provided by the above picture (same as written homework description). \n",
    "\n",
    "The function steps()'s input should be an integer corresponds to the starting cell label (i.e. 1,2,3,4,5); \n",
    "\n",
    "output should the number of steps it takes for the rat to reach freedom from the input cell. Note that this needs to be a simulation run of the rat's moves.\n",
    "\n",
    "\n",
    "While running the function, it should print out the path of the rat's move.\n",
    "\n",
    "Now, run steps(2) 10 times, your code should print out 10 different paths, and for each path the total number of steps.\n",
    "\n",
    "\n",
    "$\\textbf{Second}$, you need to run simulations to calculate the number of steps, on average, it takes the rat to get to freedom from a given cell\n",
    "1. Turn off \"print path\" feature in your steps function. \n",
    "1. for each starting cell, run $N = 500$ experiments and save it as an array of size 500 (say name it arr). Each experiment corresponds to an average of 100 simulations i.e. run the function steps(starting cell) 100 times, and compute its average. Then store it to arr. Then plot the histogram of the arr, and print the mean of the arr.\n",
    "\n",
    "For this part, you should printout 5 histograms and 5 means"
   ]
  },
  {
   "cell_type": "code",
   "execution_count": 3,
   "metadata": {
    "collapsed": true
   },
   "outputs": [],
   "source": [
    "# your code"
   ]
  },
  {
   "cell_type": "markdown",
   "metadata": {},
   "source": [
    "# part 3\n",
    "## Write a function, which can do the following:\n",
    "1. The function's input is a matrix A\n",
    "1. The function's return is 0 if $A$ is not an absorbing markov chain's transition matrix\n",
    "1. The function's return is a positive integer $K$ if $A$ is the transition matrix of an absorbing markov chain with $K$ absorption states. \n",
    "1. Meanwhile, the function should be able to transform $A$ into the canonical form if $A$ is the transition matrix of an absorbing markov chain with $K$ absorption states\n",
    "\n",
    "## Write a function, which can do the following:\n",
    "1. The function's input is a matrix A\n",
    "1. The function's return is a pair of matrices T and P.\n",
    "1. If $A$ is the transition matrix of an absorbing markov chain, then T is the time to absorption; and P is the probability matrix of absorption\n",
    "1. If $A$ is not the transition matrix for an absorbing markov chain, then assign T = -1, and P = -1. Return the pair -1,-1\n",
    "\n",
    "### if your input matrix $A$ is\n",
    "$$\n",
    "\\begin{pmatrix}\n",
    " 0.          &0.1     &    0.2    &     0.3     &    0.4  \\\\\n",
    " 0.14285714  &0.17142857  &0.2         &0.22857143  &0.25714286 \\\\\n",
    " 0.          &0.          &1.          &0.          &0.        \\\\\n",
    " 0.          &0.          &0.          &1.          &0.        \\\\\n",
    " 0.18181818  &0.19090909  &0.2         &0.20909091  &0.21818182\\\\\n",
    "\\end{pmatrix}\n",
    "$$\n",
    "\n",
    "Then the output of the first function is 2\n",
    "\n",
    "The output for the second function is:\n",
    "$$\n",
    "\\begin{matrix}\n",
    "[[ 1.14035088],\\\\\n",
    "[ 1.40350877]]\\\\\n",
    "\\end{matrix}~~~~~~~\n",
    "\\begin{matrix}\n",
    "[[ 0.43859649,  0.33333333,  0.22807018],\\\\\n",
    "[ 0.38596491,  0.33333333,  0.28070175]]\\\\\n",
    "\\end{matrix}\n",
    "$$\n",
    "\n",
    "### if your input matrix $B$ is B = np.eye(4)\n",
    "Then the output of the first function is: 4\n",
    "\n",
    "The output of the second function is:\n",
    "$$\n",
    "\\begin{matrix}\n",
    "[[ 0.],\\\\\n",
    "[ 0.],\\\\\n",
    "[ 0.],\\\\\n",
    "[ 0.]]\\\\\n",
    "\\end{matrix}~~~~~~~\n",
    "\\begin{matrix}\n",
    "[[ 1.,  0.,  0.,  0.],\\\\\n",
    "[  0., 1.,  0.,  0.],\\\\\n",
    "[ 0.,  0., 1.,  0.],\\\\\n",
    "[ 0.,  0.,  0.,1.]]\\\\\n",
    "\\end{matrix}\n",
    "$$\n",
    "\n",
    "### if your input matrix $C$ is C = np.eye(4)+1\n",
    "Then the output of the first function is: 0\n",
    "\n",
    "The output of the second function is: -1,-1\n",
    "\n",
    "\n",
    "### if your input matrix $D$ is D = np.array([ [0.5, 0.5, 0], [0.6, 0.4, 0],[0, 0, 1]   ])\n",
    "Then the output of the first function is: 0\n",
    "\n",
    "The output of the second function is: -1,-1"
   ]
  },
  {
   "cell_type": "code",
   "execution_count": 3,
   "metadata": {
    "collapsed": true
   },
   "outputs": [],
   "source": [
    "## Please don't change these matrices. \n",
    "## You will use them to test your results\n",
    "##########################################\n",
    "\n",
    "A = np.arange(25).reshape(5,5)\n",
    "A = A/A.sum(axis = 1).reshape((5,1))\n",
    "A[2,] = [0,0,1,0,0]\n",
    "A[3,] = [0,0,0,1,0]\n",
    "\n",
    "B = np.eye(4)\n",
    "\n",
    "C = np.eye(4)+1\n",
    "\n",
    "D = np.array([ \n",
    "    [0.5, 0.5, 0], \n",
    "    [0.6, 0.4, 0],\n",
    "    [0, 0, 1]   ])"
   ]
  },
  {
   "cell_type": "code",
   "execution_count": null,
   "metadata": {
    "collapsed": true
   },
   "outputs": [],
   "source": []
  },
  {
   "cell_type": "code",
   "execution_count": null,
   "metadata": {
    "collapsed": true
   },
   "outputs": [],
   "source": []
  }
 ],
 "metadata": {
  "anaconda-cloud": {},
  "kernelspec": {
   "display_name": "Python 3",
   "language": "python",
   "name": "python3"
  },
  "language_info": {
   "codemirror_mode": {
    "name": "ipython",
    "version": 3
   },
   "file_extension": ".py",
   "mimetype": "text/x-python",
   "name": "python",
   "nbconvert_exporter": "python",
   "pygments_lexer": "ipython3",
   "version": "3.6.0"
  }
 },
 "nbformat": 4,
 "nbformat_minor": 1
}
