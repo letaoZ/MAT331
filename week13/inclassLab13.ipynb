{
 "cells": [
  {
   "cell_type": "markdown",
   "metadata": {},
   "source": [
    "## Absorbing Markov Chain \n",
    "##### Keywords: Linear algebra, Markov Chain"
   ]
  },
  {
   "cell_type": "code",
   "execution_count": 1,
   "metadata": {
    "collapsed": true
   },
   "outputs": [],
   "source": [
    "%matplotlib inline\n",
    "import numpy as np\n",
    "from numpy import linalg as lin\n",
    "import os\n",
    "\n",
    "\n",
    "\n",
    "\n",
    "\n",
    "\n",
    "## store current working directory\n",
    "cwd      = os.getcwd() \n",
    "\n",
    "## where we store data files\n",
    "datapath = cwd + u'/data/'"
   ]
  },
  {
   "cell_type": "markdown",
   "metadata": {},
   "source": [
    "### Consider a rat in a maze with 3 cells, indexed as 1,2,3 and the outside (freedom), indexed by 4 (that can only be reached via cell 3).  The rat starts initially in a given cell and then takes a move to another cell, continuing to do so until finally reaching freedom. \n",
    "\n",
    "### Goal: simulate rat moving around and count steps it takes to get to freedom\n",
    "<img src=\"4rat.png\" alt=\"Drawing\" style=\"width: 200px;\"/>\n"
   ]
  },
  {
   "cell_type": "code",
   "execution_count": 10,
   "metadata": {
    "collapsed": true
   },
   "outputs": [],
   "source": [
    "S = [1,2,3,4]\n",
    "import random\n",
    "import numpy as np\n",
    "\n",
    "################################################\n",
    "## start moving from location i, \n",
    "## number of steps it takes to get to freedom\n",
    "## recursion\n",
    "##############################################\n",
    "def steps(i):\n",
    "    #print(i,'->')\n",
    "    if(i==1):\n",
    "        next_move = 2\n",
    "        return 1+steps(next_move)\n",
    "    \n",
    "    if(i == 2):\n",
    "        next_move = random.choice([1,3,4])\n",
    "        return 1+steps(next_move)\n",
    "        \n",
    "    if(i == 3):\n",
    "        next_move = 2\n",
    "        return 1+steps(next_move)\n",
    "    \n",
    "    if(i == 4):\n",
    "        return 0\n",
    "#for i in range(10):\n",
    "#    print(steps(2))"
   ]
  },
  {
   "cell_type": "markdown",
   "metadata": {
    "collapsed": true
   },
   "source": [
    "### I want to count in general, on average how many steps it takes to start from cell 2 and ends with freedom\n",
    "<img src=\"4rat.png\" alt=\"Drawing\" style=\"width: 200px;\"/>\n",
    "### Run N = 100 times, each time compute average of 50 moves\n"
   ]
  },
  {
   "cell_type": "code",
   "execution_count": 5,
   "metadata": {
    "collapsed": true
   },
   "outputs": [],
   "source": [
    "# N experiment\n",
    "# each experiment N_simulation = 50"
   ]
  },
  {
   "cell_type": "code",
   "execution_count": 11,
   "metadata": {},
   "outputs": [
    {
     "name": "stdout",
     "output_type": "stream",
     "text": [
      "start move from cell 1\n"
     ]
    },
    {
     "data": {
      "image/png": "[encoded data removed]",
      "text/plain": [
       "<matplotlib.figure.Figure at 0x106240f98>"
      ]
     },
     "metadata": {},
     "output_type": "display_data"
    },
    {
     "name": "stdout",
     "output_type": "stream",
     "text": [
      "6.0752\n",
      "start move from cell 2\n"
     ]
    },
    {
     "data": {
      "image/png": "[encoded data removed]",
      "text/plain": [
       "<matplotlib.figure.Figure at 0x101488dd8>"
      ]
     },
     "metadata": {},
     "output_type": "display_data"
    },
    {
     "name": "stdout",
     "output_type": "stream",
     "text": [
      "4.9852\n",
      "start move from cell 3\n"
     ]
    },
    {
     "data": {
      "image/png": "[encoded data removed]",
      "text/plain": [
       "<matplotlib.figure.Figure at 0x1065afc18>"
      ]
     },
     "metadata": {},
     "output_type": "display_data"
    },
    {
     "name": "stdout",
     "output_type": "stream",
     "text": [
      "6.034\n"
     ]
    }
   ],
   "source": [
    "import matplotlib.pyplot as plt\n",
    "\n",
    "for start in [1,2,3]:\n",
    "    Run_total = np.zeros(100)\n",
    "    N_move    = 50\n",
    "    print(\"start move from cell\", start)\n",
    "    for each_run in range(100):\n",
    "        move = np.zeros(N_move)\n",
    "        for each_move in range(N_move):\n",
    "            move[each_move] = steps(start)\n",
    "        Run_total[each_run] = np.mean(move)\n",
    "    plt.hist(Run_total,bins = 10)\n",
    "    plt.show()\n",
    "    print(Run_total.mean())\n"
   ]
  },
  {
   "cell_type": "markdown",
   "metadata": {},
   "source": [
    "### We can also look at the 1-step transition matrix associated with this problem\n",
    "<img src=\"4rat.png\" alt=\"Drawing\" style=\"width: 200px;\"/>\n",
    "\n",
    "We have the following:\n",
    "$$\n",
    "P = \\begin{pmatrix}\n",
    "0 & 1 & 0 & 0\\\\\n",
    "1/3 & 0 & 1/3 & 1/3\\\\\n",
    "0 & 1 & 0 & 0\\\\\n",
    "0 & 0 & 0 & 1\\\\\n",
    "\\end{pmatrix}\n",
    "$$\n",
    "\n",
    "Then we can set up the canonical form we dicussed in class on Tuesday:\n",
    "$\\begin{pmatrix}\n",
    "Q &| &R\\\\\n",
    "O &| &I\\\\\n",
    "\\end{pmatrix}$"
   ]
  },
  {
   "cell_type": "code",
   "execution_count": 13,
   "metadata": {},
   "outputs": [
    {
     "name": "stdout",
     "output_type": "stream",
     "text": [
      "[[ 0.          1.          0.          0.        ]\n",
      " [ 0.33333333  0.          0.33333333  0.33333333]\n",
      " [ 0.          1.          0.          0.        ]\n",
      " [ 0.          0.          0.          1.        ]]\n"
     ]
    }
   ],
   "source": [
    "\n",
    "# Transition matrix\n",
    "P = np.array(\n",
    "[[0,1,0,0],\n",
    " [1/3,0,1/3,1/3],\n",
    " [0,1,0,0],\n",
    " [0,0,0,1] \n",
    "]\n",
    ")\n",
    "print(P)"
   ]
  },
  {
   "cell_type": "code",
   "execution_count": 17,
   "metadata": {},
   "outputs": [
    {
     "name": "stdout",
     "output_type": "stream",
     "text": [
      "[[ 0.          1.          0.        ]\n",
      " [ 0.33333333  0.          0.33333333]\n",
      " [ 0.          1.          0.        ]]\n",
      "[[ 0.        ]\n",
      " [ 0.33333333]\n",
      " [ 0.        ]]\n",
      "[[ 1.         -1.          0.        ]\n",
      " [-0.33333333  1.         -0.33333333]\n",
      " [ 0.         -1.          1.        ]]\n",
      "[[ 2.  3.  1.]\n",
      " [ 1.  3.  1.]\n",
      " [ 1.  3.  2.]]\n"
     ]
    }
   ],
   "source": [
    "## We have ONE absorption state\n",
    "##############################\n",
    "S = [1,2,3,4]\n",
    "N_absorption = 1\n",
    "\n",
    "## Q is the upper left square matrix of size\n",
    "## 4-1 by 4-1\n",
    "##############################\n",
    "Q = np.matrix(P[:len(S)-N_absorption, :len(S)-N_absorption])\n",
    "print(Q)\n",
    "\n",
    "## R is the upper left square matrix of size\n",
    "## 4-1 by 4-1\n",
    "##############################\n",
    "R = np.matrix(P[:len(S)-N_absorption,-N_absorption:])\n",
    "print(R\n",
    "     )\n",
    "## We need to find N = (I - Q)^(-1)\n",
    "##############################\n",
    "diff = np.matrix(np.eye(len(Q)) - Q)\n",
    "N    = diff**(-1)\n",
    "print(diff)\n",
    "print(N)"
   ]
  },
  {
   "cell_type": "markdown",
   "metadata": {},
   "source": [
    "###  the expected time of being absorbed is Nc\n",
    "where $c = (1,1,...,1)^T$\n",
    "### The probability of being absorbed by one of the absorption states is\n",
    "NR"
   ]
  },
  {
   "cell_type": "code",
   "execution_count": 22,
   "metadata": {},
   "outputs": [
    {
     "name": "stdout",
     "output_type": "stream",
     "text": [
      "[[ 6.]\n",
      " [ 5.]\n",
      " [ 6.]]\n",
      "[[ 1.]\n",
      " [ 1.]\n",
      " [ 1.]]\n"
     ]
    }
   ],
   "source": [
    "c = np.ones((len(N),1))\n",
    "Tabs = N*c\n",
    "Pabs = N*R\n",
    "print(Tabs)\n",
    "print(Pabs)"
   ]
  },
  {
   "cell_type": "markdown",
   "metadata": {},
   "source": [
    "### Drunkard's examples\n",
    "<img src=\"drunkard.png\" alt=\"Drawing\" style=\"width: 300px;\"/>\n",
    "\n",
    "similar as before, we can define \"steps\" and \"canonical forms\"\n",
    "\n",
    "###### Goal: simulate drunkard's moves and count steps it takes to get to freedom\n"
   ]
  },
  {
   "cell_type": "code",
   "execution_count": 32,
   "metadata": {},
   "outputs": [
    {
     "data": {
      "text/plain": [
       "1"
      ]
     },
     "execution_count": 32,
     "metadata": {},
     "output_type": "execute_result"
    }
   ],
   "source": [
    "S = [0,1,2,3,4]\n",
    "def steps_drunkard(i):\n",
    "    #print(i,'->')\n",
    "    if(i == 3 or i == 4):\n",
    "        return 0\n",
    "    \n",
    "    if(i == 0):\n",
    "        next_move = random.choice([3,1])\n",
    "        return 1 + steps_drunkard(next_move)\n",
    "\n",
    "    if(i == 1):\n",
    "        next_move = random.choice([0,2])\n",
    "        return 1 + steps_drunkard(next_move)\n",
    "    \n",
    "    if(i == 2):\n",
    "        next_move = random.choice([4,1])\n",
    "        return 1 + steps_drunkard(next_move)\n",
    "\n",
    "steps_drunkard(2)"
   ]
  },
  {
   "cell_type": "markdown",
   "metadata": {},
   "source": [
    "<img src=\"drunkard.png\" alt=\"Drawing\" style=\"width: 300px;\"/>\n",
    "### I want to count in general, on average how many steps it takes to start from a block  and ends with home or bar\n"
   ]
  },
  {
   "cell_type": "code",
   "execution_count": 33,
   "metadata": {
    "collapsed": true
   },
   "outputs": [],
   "source": [
    "S = [0,1,2,3,4]\n",
    "N_exp = 100\n",
    "N_simulations = 50\n",
    "N_s   = 5\n",
    "experiments = np.zeros((N_s,N_exp))"
   ]
  },
  {
   "cell_type": "code",
   "execution_count": 34,
   "metadata": {
    "collapsed": true
   },
   "outputs": [],
   "source": [
    "for block in S:\n",
    "    for i in range(N_exp):\n",
    "        each_experiment = np.zeros(N_simulations)\n",
    "        for j in range(N_simulations):\n",
    "            each_experiment[j] = steps_drunkard(block)\n",
    "        experiments[block,i] = np.mean(each_experiment)\n"
   ]
  },
  {
   "cell_type": "markdown",
   "metadata": {},
   "source": [
    "<img src=\"drunkard.png\" alt=\"Drawing\" style=\"width: 300px;\"/>\n"
   ]
  },
  {
   "cell_type": "code",
   "execution_count": 39,
   "metadata": {},
   "outputs": [
    {
     "name": "stdout",
     "output_type": "stream",
     "text": [
      "0 number of moves:  2.9876\n"
     ]
    },
    {
     "data": {
      "image/png": "[encoded data removed]",
      "text/plain": [
       "<matplotlib.figure.Figure at 0x1066466d8>"
      ]
     },
     "metadata": {},
     "output_type": "display_data"
    },
    {
     "name": "stdout",
     "output_type": "stream",
     "text": [
      "1 number of moves:  3.9588\n"
     ]
    },
    {
     "data": {
      "image/png": "[encoded data removed]",
      "text/plain": [
       "<matplotlib.figure.Figure at 0x106516da0>"
      ]
     },
     "metadata": {},
     "output_type": "display_data"
    },
    {
     "name": "stdout",
     "output_type": "stream",
     "text": [
      "2 number of moves:  2.9648\n"
     ]
    },
    {
     "data": {
      "image/png": "[encoded data removed]",
      "text/plain": [
       "<matplotlib.figure.Figure at 0x106507e10>"
      ]
     },
     "metadata": {},
     "output_type": "display_data"
    },
    {
     "name": "stdout",
     "output_type": "stream",
     "text": [
      "3 number of moves:  0.0\n"
     ]
    },
    {
     "data": {
      "image/png": "[encoded data removed]",
      "text/plain": [
       "<matplotlib.figure.Figure at 0x106ee6668>"
      ]
     },
     "metadata": {},
     "output_type": "display_data"
    },
    {
     "name": "stdout",
     "output_type": "stream",
     "text": [
      "4 number of moves:  0.0\n"
     ]
    },
    {
     "data": {
      "image/png": "[encoded data removed]",
      "text/plain": [
       "<matplotlib.figure.Figure at 0x1071f0ef0>"
      ]
     },
     "metadata": {},
     "output_type": "display_data"
    }
   ],
   "source": [
    "for block in S:\n",
    "    plt.hist(experiments[block,:],bins = 5)\n",
    "    print(block,'number of moves: ', np.mean(experiments[block,:]))\n",
    "    plt.show()"
   ]
  },
  {
   "cell_type": "markdown",
   "metadata": {},
   "source": [
    "### Now the question remains: given a matrix $A$, in general, how to determine if it is a transition matrix for an absorbing Markov Chain?\n",
    "To be a transition matrix $A$ needs to satisfy:\n",
    " 1. $A$ needs to be square matrix\n",
    " 1. $A$ needs to have all entries $\\in[0,1]$ \n",
    " 1. Each row of $A$ should have summation 1\n",
    "\n",
    "Then to be an absorbing Markov Chain's transition matrix, $A$ needs to satisfy:\n",
    "1. $A$ has absorption state(s)\n",
    "1. For all other states, there exist at least one path from that state to some absorption states"
   ]
  },
  {
   "cell_type": "markdown",
   "metadata": {},
   "source": [
    "First, let's write out a function to determine if a matrix is Markov\n",
    "To be a transition matrix $A$ needs to satisfy:\n",
    " 1. $A$ needs to be square matrix\n",
    " 1. $A$ needs to have all entries $\\in[0,1]$ \n",
    " 1. Each row of $A$ should have summation 1"
   ]
  },
  {
   "cell_type": "code",
   "execution_count": 60,
   "metadata": {
    "collapsed": true
   },
   "outputs": [],
   "source": [
    "## if markov\n",
    "def if_markov(A):\n",
    "    ## A needs to be a square matrix\n",
    "    ################################\n",
    "    shape = A.shape\n",
    "    if(len(shape) != 2):\n",
    "        return False\n",
    "    if(shape[0] != shape[1]):\n",
    "        return False\n",
    "            \n",
    "\n",
    "    ## A all entries between [0 and 1]\n",
    "    ################################  \n",
    "    val = np.all(np.logical_and(A >= 0, A <= 1))\n",
    "    if(val == False):\n",
    "        return False\n",
    "    ## each row sum to 1\n",
    "    ###############################\n",
    "    rsum = np.round(A.sum(axis = 1),5)\n",
    "    val = np.all(rsum == 1.)\n",
    "    return val"
   ]
  },
  {
   "cell_type": "code",
   "execution_count": 63,
   "metadata": {
    "collapsed": true
   },
   "outputs": [],
   "source": [
    "A = np.arange(25).reshape(5,5)\n",
    "A = A/A.sum(axis = 1).reshape((5,1))\n",
    "A[2,] = [0,0,1,0,0]\n",
    "A[3,] = [0,0,0,1,0]\n"
   ]
  },
  {
   "cell_type": "code",
   "execution_count": null,
   "metadata": {
    "collapsed": true
   },
   "outputs": [],
   "source": []
  },
  {
   "cell_type": "markdown",
   "metadata": {},
   "source": [
    "Then to be an absorbing Markov Chain's transition matrix, $A$ needs to satisfy:\n",
    "1. $A$ has absorption state(s)\n",
    "1. For all other states, there exist at least one path from that state to some absorption states"
   ]
  },
  {
   "cell_type": "code",
   "execution_count": 73,
   "metadata": {
    "collapsed": true
   },
   "outputs": [],
   "source": [
    "A = np.arange(25).reshape(5,5)\n",
    "A = A/A.sum(axis = 1).reshape((5,1))\n",
    "A[2,] = [0,0,1,0,0]\n",
    "A[3,] = [0,0,0,1,0]\n",
    "## swap i = 3, j = 5\n",
    "def swap(A,i,j):\n",
    "    r = np.copy(A[j,:])\n",
    "    A[j,:] = A[i,:]\n",
    "    A[i,:] = r\n",
    "    \n",
    "    c = np.copy(A[:,j])\n",
    "    A[:,j] = A[:,i]\n",
    "    A[:,i] = c\n"
   ]
  },
  {
   "cell_type": "code",
   "execution_count": 24,
   "metadata": {
    "collapsed": true
   },
   "outputs": [],
   "source": [
    "## if absorbing\n",
    "## return value should be the number of absorption states\n",
    "def if_absmarkov(A):\n",
    "    \n",
    "    if(if_markov(A) == False):\n",
    "        print('not markov')\n",
    "        return 0\n",
    "    \n",
    "    ## diagnoal exists 1, then absorption state(s)\n",
    "    ############################################\n",
    "    diag_entry = (np.diag(A) == 1)\n",
    "    if(np.any(diag_entry) == False):\n",
    "        print('no absorption')\n",
    "        return 0\n",
    "    \n",
    "    ## I-Q is invertable?\n",
    "    ## first find Q\n",
    "    ## To find Q, need to make A into canonical form\n",
    "    ##################################################\n",
    "    S     = np.arange(len(A))\n",
    "    N_abs = np.sum(diag_entry)\n",
    "    pos   = len(A) - 1\n",
    "    \n",
    "    ## if A is already in canonical form\n",
    "    while(pos>len(A)-1-N_abs):\n",
    "        if(diag_entry[pos] == True):\n",
    "            pos -= 1\n",
    "        else:\n",
    "            pos = -2\n",
    "            break\n",
    "            \n",
    "    if(pos == -2):\n",
    "        print('not canonical')\n",
    "    else:\n",
    "        print(' canonical')\n",
    "    \n",
    "    \n",
    "    ## Transform A into canonical form\n",
    "    ######################################\n",
    "    abs_pos = S[diag_entry] # absorbing states\n",
    "    otherp  = S[~diag_entry]# transient\n",
    "    bottom  = -1\n",
    "    for j in abs_pos:\n",
    "        if(j<len(A) - N_abs):\n",
    "            swap(A,j,otherp[bottom])\n",
    "            bottom -= 1\n",
    "        else:\n",
    "            break\n",
    "            \n",
    "    if(len(A) == N_abs):\n",
    "        return len(A)\n",
    "    \n",
    "    Q    = A[:len(A) -N_abs,:len(A) - N_abs]\n",
    "    test = np.eye(len(A) - N_abs) -Q\n",
    "    eigv = np.round(lin.eigvals(test),5)\n",
    "    if(np.any(eigv == 0)):\n",
    "        return 0\n",
    "    \n",
    "    return N_abs"
   ]
  },
  {
   "cell_type": "code",
   "execution_count": 77,
   "metadata": {},
   "outputs": [
    {
     "name": "stdout",
     "output_type": "stream",
     "text": [
      "[False False  True  True False]\n"
     ]
    },
    {
     "data": {
      "text/plain": [
       "array([False, False,  True,  True, False], dtype=bool)"
      ]
     },
     "execution_count": 77,
     "metadata": {},
     "output_type": "execute_result"
    }
   ],
   "source": [
    "diag_entry = (np.diag(A) == 1)\n",
    "print(diag_entry)\n",
    "S = np.arange(5)\n",
    "diag_entry"
   ]
  },
  {
   "cell_type": "code",
   "execution_count": 81,
   "metadata": {},
   "outputs": [
    {
     "name": "stdout",
     "output_type": "stream",
     "text": [
      "[2 3]\n",
      "[0 1 4]\n"
     ]
    }
   ],
   "source": [
    "print(abs_pos)\n",
    "print(otherp)"
   ]
  },
  {
   "cell_type": "code",
   "execution_count": 82,
   "metadata": {},
   "outputs": [
    {
     "name": "stdout",
     "output_type": "stream",
     "text": [
      "[[ 0.          0.1         0.2         0.3         0.4       ]\n",
      " [ 0.14285714  0.17142857  0.2         0.22857143  0.25714286]\n",
      " [ 0.          0.          1.          0.          0.        ]\n",
      " [ 0.          0.          0.          1.          0.        ]\n",
      " [ 0.18181818  0.19090909  0.2         0.20909091  0.21818182]]\n"
     ]
    }
   ],
   "source": [
    "abs_pos = S[diag_entry] # absorbing states\n",
    "otherp  = S[~diag_entry]# transient\n",
    "bottom  = -1\n",
    "N_abs  = np.sum(diag_entry\n",
    "               )\n",
    "for j in abs_pos:\n",
    "    if(j<len(A) - N_abs):\n",
    "        swap(A,j,otherp[bottom])\n",
    "        bottom -= 1\n",
    "    else:\n",
    "        break\n",
    "print(A)\n",
    "## swap row 3 row 5, and then swap col 3 and col 5"
   ]
  },
  {
   "cell_type": "code",
   "execution_count": 25,
   "metadata": {},
   "outputs": [
    {
     "data": {
      "text/plain": [
       "5.5511151231257759e-17"
      ]
     },
     "execution_count": 25,
     "metadata": {},
     "output_type": "execute_result"
    }
   ],
   "source": [
    "A = np.arange(9).reshape((3,3))\n",
    "A[2,:] = [0,0,1]\n",
    "A[:,2] = [0,0,1]\n",
    "A = A/A.sum(axis = 1).reshape((3,1))\n",
    "\n",
    "#if_absmarkov(A)\n",
    "Q = A[:2,:2]\n",
    "N = np.eye(2)-Q\n",
    "lin.det(N)"
   ]
  },
  {
   "cell_type": "markdown",
   "metadata": {},
   "source": [
    "## Once A is transformed into canonical form, we can compute the time to absorption and probability to be absorbed by each state"
   ]
  },
  {
   "cell_type": "code",
   "execution_count": 14,
   "metadata": {
    "collapsed": true
   },
   "outputs": [],
   "source": []
  },
  {
   "cell_type": "code",
   "execution_count": 2,
   "metadata": {},
   "outputs": [
    {
     "name": "stdout",
     "output_type": "stream",
     "text": [
      "[[ 0.7   0.24  0.06]\n",
      " [ 0.64  0.28  0.08]\n",
      " [ 0.6   0.3   0.1 ]]\n",
      "[[ 0.7   0.24  0.06]\n",
      " [ 0.64  0.28  0.08]\n",
      " [ 0.6   0.3   0.1 ]]\n"
     ]
    }
   ],
   "source": [
    "import numpy as np\n",
    "\n",
    "A = np.array([\n",
    "[3/5,3/10,1/10],\n",
    "[4/5,1/5,0],\n",
    "[1,0,0],\n",
    "])\n",
    "\n",
    "B = np.matrix(A)\n",
    "\n",
    "print(A*B)\n",
    "print(B*B)\n"
   ]
  },
  {
   "cell_type": "markdown",
   "metadata": {},
   "source": [
    "$$\n",
    "P^2 = \\begin{pmatrix}\n",
    "0.7  & 0.24 & 0.06\\\\\n",
    "0.64 & 0.28 & 0.08\\\\\n",
    "0.6  & 0.3  & 0.1\n",
    "\\end{pmatrix}\n",
    "$$"
   ]
  },
  {
   "cell_type": "code",
   "execution_count": null,
   "metadata": {
    "collapsed": true
   },
   "outputs": [],
   "source": []
  }
 ],
 "metadata": {
  "anaconda-cloud": {},
  "kernelspec": {
   "display_name": "Python 3",
   "language": "python",
   "name": "python3"
  },
  "language_info": {
   "codemirror_mode": {
    "name": "ipython",
    "version": 3
   },
   "file_extension": ".py",
   "mimetype": "text/x-python",
   "name": "python",
   "nbconvert_exporter": "python",
   "pygments_lexer": "ipython3",
   "version": "3.6.0"
  }
 },
 "nbformat": 4,
 "nbformat_minor": 1
}
