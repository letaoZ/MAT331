{
 "cells": [
  {
   "cell_type": "markdown",
   "metadata": {},
   "source": [
    "# Due Apr 20 at 5pm\n",
    "# Please submit your homework with file name: HW12_Lastname_firstname.ipynb\n",
    "\n",
    "\n",
    "# Read files, Linear algebra, and  Markov Chain simulation\n",
    "##### Keywords: Linear algebra, Markov Chain"
   ]
  },
  {
   "cell_type": "markdown",
   "metadata": {},
   "source": [
    "## If you want to download this lab homework. Please make sure you download the 5rat.png file and save it in the same directory as this homework file."
   ]
  },
  {
   "cell_type": "code",
   "execution_count": 9,
   "metadata": {
    "collapsed": true
   },
   "outputs": [],
   "source": [
    "import numpy as np\n",
    "import pandas as pd\n",
    "from numpy import linalg as lin\n",
    " "
   ]
  },
  {
   "cell_type": "markdown",
   "metadata": {},
   "source": [
    "# This homework set is based the \"rat\" written homework qestion:\n",
    "<img src=\"5rat.png\" alt=\"Drawing\" style=\"width: 300px;\"/>\n",
    "\n",
    "\n",
    "## part 1\n",
    "The first part of the homework is to download, save data files into data folder and access it using python.\n",
    "\n",
    "1. create a folder (directory) and name it \"data\" in the same working directory as your working directory\n",
    "1. download rat.txt from https://github.com/letaoZ/MAT331/tree/master/week12\n",
    "1. move rat.txt to the data directory you just created\n",
    "1. load the data file and save it to a 2d array $\\textit{P}$\n",
    "1. If you run \"print(P)\" You should see the following\n",
    "\n",
    "$array([[ 0.        ,  0.5       ,  0.5       ,  0.        ,  0.        ],\\\\\n",
    " [ 0.5       ,  0.        ,  0.        ,  0.5       ,  0.        ],\\\\\n",
    " [ 0.5       ,  0.        ,  0.        ,  0.5       ,  0.        ],\\\\\n",
    " [ 0.        ,  0.33333333,  0.33333333,  0.        ,  0.33333333],\\\\\n",
    " [ 0.        ,  0.        ,  0.        ,  0.        ,  1.        ]])$\n",
    "\n",
    "\n",
    "### The $P$ you loaded  is the one step transition matrix for the rat's moves"
   ]
  },
  {
   "cell_type": "code",
   "execution_count": 10,
   "metadata": {
    "collapsed": true
   },
   "outputs": [],
   "source": [
    "## Part 1 of the homework\n",
    "\n",
    "\n",
    "\n",
    "\n",
    "\n"
   ]
  },
  {
   "cell_type": "markdown",
   "metadata": {},
   "source": [
    "## part 2\n",
    "Transform the 2d-array $P$ to a matrix. \n",
    "\n",
    "Find an integer $N$ such that $P^N$ is the stationary matrix.\n",
    "\n",
    "### Your code should print out both $N$ and the stationary matrix"
   ]
  },
  {
   "cell_type": "code",
   "execution_count": 8,
   "metadata": {
    "collapsed": true
   },
   "outputs": [],
   "source": [
    "## Part 2 code here\n"
   ]
  },
  {
   "cell_type": "markdown",
   "metadata": {
    "collapsed": true
   },
   "source": [
    "## Part 3\n",
    "Find eigenvalues of $P$\n",
    "\n",
    "### Your code should print out all eigenvalues of $P$"
   ]
  },
  {
   "cell_type": "code",
   "execution_count": null,
   "metadata": {
    "collapsed": true
   },
   "outputs": [],
   "source": []
  }
 ],
 "metadata": {
  "anaconda-cloud": {},
  "kernelspec": {
   "display_name": "Python 3",
   "language": "python",
   "name": "python3"
  },
  "language_info": {
   "codemirror_mode": {
    "name": "ipython",
    "version": 3
   },
   "file_extension": ".py",
   "mimetype": "text/x-python",
   "name": "python",
   "nbconvert_exporter": "python",
   "pygments_lexer": "ipython3",
   "version": "3.6.0"
  }
 },
 "nbformat": 4,
 "nbformat_minor": 1
}
