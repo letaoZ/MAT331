{
 "cells": [
  {
   "cell_type": "markdown",
   "metadata": {},
   "source": [
    "\n",
    "\n",
    "# Read files, Linear algebra, and  Markov Chain simulation\n",
    "##### Keywords: Linear algebra, Markov Chain"
   ]
  },
  {
   "cell_type": "code",
   "execution_count": null,
   "metadata": {},
   "outputs": [],
   "source": [
    "%matplotlib inline\n",
    "import numpy as np\n",
    "\n",
    "P = np.matrix(\n",
    "[[ 0.1  , 0.2 , 0.7],\n",
    " [ 0.01 ,  0. , 0.99 ],\n",
    " [ 0.4  ,  0.4,  0.2 ]\n",
    "])\n",
    "\n",
    "## There is a difference between the following two pieces of the code. \n",
    "## Make sure you use the right one\n",
    "\n",
    "\n",
    "## Code number 1\n",
    "A2 = np.copy(P)\n",
    "for i in np.arange(1,100):\n",
    "    A1 = A2\n",
    "    A2 = A1*P\n",
    "    E1 = np.round(A1,5)\n",
    "    E2 = np.round(A2,5)\n",
    "    if(np.all(E1 == E2)):\n",
    "        break\n",
    "\n",
    "print(E1)\n",
    "print(E2)\n",
    "print(E1 == E2)\n",
    "print(A1)\n",
    "print(A2)\n",
    "print(A1 == A2)\n",
    "print(i)"
   ]
  },
  {
   "cell_type": "code",
   "execution_count": null,
   "metadata": {},
   "outputs": [],
   "source": [
    "## Code number 2\n",
    "A2 = np.copy(P)\n",
    "for i in np.arange(1,100):\n",
    "    A1 = A2\n",
    "    A2 = np.round(A1*P,5)\n",
    "    \n",
    "    if(np.all(A1 == A2)):\n",
    "        break\n",
    "\n",
    "\n",
    "\n",
    "print(A1)\n",
    "print(A2)\n",
    "print(A1 == A2)\n",
    "print(i)"
   ]
  }
 ],
 "metadata": {
  "anaconda-cloud": {},
  "kernelspec": {
   "display_name": "Python 3",
   "language": "python",
   "name": "python3"
  },
  "language_info": {
   "codemirror_mode": {
    "name": "ipython",
    "version": 3
   },
   "file_extension": ".py",
   "mimetype": "text/x-python",
   "name": "python",
   "nbconvert_exporter": "python",
   "pygments_lexer": "ipython3",
   "version": "3.6.0"
  }
 },
 "nbformat": 4,
 "nbformat_minor": 1
}
