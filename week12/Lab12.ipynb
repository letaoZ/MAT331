{
 "cells": [
  {
   "cell_type": "markdown",
   "metadata": {},
   "source": [
    "\n",
    "\n",
    "# Read files, Linear algebra, and  Markov Chain simulation\n",
    "##### Keywords: Linear algebra, Markov Chain"
   ]
  },
  {
   "cell_type": "code",
   "execution_count": 3,
   "metadata": {
    "collapsed": true
   },
   "outputs": [],
   "source": [
    "%matplotlib inline\n",
    "import numpy as np\n"
   ]
  },
  {
   "cell_type": "code",
   "execution_count": null,
   "metadata": {
    "collapsed": true
   },
   "outputs": [],
   "source": []
  },
  {
   "cell_type": "code",
   "execution_count": 5,
   "metadata": {
    "collapsed": true
   },
   "outputs": [],
   "source": [
    "import os\n",
    "\n",
    "## store current working directory\n",
    "cwd      = os.getcwd() \n",
    "\n",
    "## where we store data files\n",
    "datapath = cwd + u'/data/'"
   ]
  },
  {
   "cell_type": "markdown",
   "metadata": {},
   "source": [
    "# Now to access data stored in the subfolder data\n",
    "## You cannot access houston_weather.txt simply by :\n",
    "## np.loadtxt('weather_comma.txt', delimiter=',')\n"
   ]
  },
  {
   "cell_type": "code",
   "execution_count": 6,
   "metadata": {
    "collapsed": true
   },
   "outputs": [],
   "source": [
    "## You cannot access houston_weather.txt simply by \n",
    "## np.loadtxt('houston_weather.txt', delimiter=',')\n",
    "weather = np.loadtxt(datapath + 'weather_space.txt')"
   ]
  },
  {
   "cell_type": "markdown",
   "metadata": {},
   "source": [
    "## Linear algebra and Markov Matrix"
   ]
  },
  {
   "cell_type": "code",
   "execution_count": 8,
   "metadata": {},
   "outputs": [
    {
     "name": "stdout",
     "output_type": "stream",
     "text": [
      "[[ 0.5   0.25  0.25]\n",
      " [ 0.5   0.    0.5 ]\n",
      " [ 0.25  0.25  0.5 ]]\n"
     ]
    }
   ],
   "source": [
    "weather = np.loadtxt(datapath + 'weather_space.txt')\n",
    "print(weather)"
   ]
  },
  {
   "cell_type": "markdown",
   "metadata": {},
   "source": [
    "## The following are NOT matrix square or matrix product\n",
    "## They are just entrywise operations"
   ]
  },
  {
   "cell_type": "code",
   "execution_count": 9,
   "metadata": {},
   "outputs": [
    {
     "name": "stdout",
     "output_type": "stream",
     "text": [
      "This is NOT a matrix product, but entrywise squared!!!\n",
      " [[ 0.25    0.0625  0.0625]\n",
      " [ 0.25    0.      0.25  ]\n",
      " [ 0.0625  0.0625  0.25  ]]\n",
      "\n",
      "This is NOT a matrix product, but entrywise product!!!\n",
      " [[ 0.25    0.0625  0.0625]\n",
      " [ 0.25    0.      0.25  ]\n",
      " [ 0.0625  0.0625  0.25  ]]\n",
      "\n",
      "This is NOT a matrix inverse, but entrywise inverse!!!\n",
      " [[  2.   4.   4.]\n",
      " [  2.  inf   2.]\n",
      " [  4.   4.   2.]]\n"
     ]
    },
    {
     "name": "stderr",
     "output_type": "stream",
     "text": [
      "/Library/Frameworks/Python.framework/Versions/3.6/lib/python3.6/site-packages/ipykernel_launcher.py:3: RuntimeWarning: divide by zero encountered in reciprocal\n",
      "  This is separate from the ipykernel package so we can avoid doing imports until\n"
     ]
    }
   ],
   "source": [
    "print(\"This is NOT a matrix product, but entrywise squared!!!\\n\", weather**2)\n",
    "print(\"\\nThis is NOT a matrix product, but entrywise product!!!\\n\", weather*weather)\n",
    "print(\"\\nThis is NOT a matrix inverse, but entrywise inverse!!!\\n\", weather**(-1))"
   ]
  },
  {
   "cell_type": "markdown",
   "metadata": {},
   "source": [
    "\n",
    "# A Matrix is a 2D array that stores real or complex numbers. \n",
    "# You can use numpy to create matrices:"
   ]
  },
  {
   "cell_type": "code",
   "execution_count": 10,
   "metadata": {
    "collapsed": true
   },
   "outputs": [],
   "source": [
    "A1 = np.array(    \n",
    "    [[0, 4],\n",
    "     [2, 0]]\n",
    ")\n",
    "\n",
    "A2 = np.array(\n",
    "    [[-1, 2,2],\n",
    "     [1, -2,2]]\n",
    ")\n"
   ]
  },
  {
   "cell_type": "code",
   "execution_count": 11,
   "metadata": {},
   "outputs": [
    {
     "name": "stdout",
     "output_type": "stream",
     "text": [
      "(2, 2) (2, 3)\n"
     ]
    }
   ],
   "source": [
    "print(A1.shape, A2.shape)\n"
   ]
  },
  {
   "cell_type": "markdown",
   "metadata": {},
   "source": [
    "## As matrices, A1*A2 is defined, and the product should be a 2 by 3 matrix"
   ]
  },
  {
   "cell_type": "code",
   "execution_count": 12,
   "metadata": {},
   "outputs": [
    {
     "data": {
      "text/plain": [
       "matrix([[ 4, -8,  8],\n",
       "        [-2,  4,  4]])"
      ]
     },
     "execution_count": 12,
     "metadata": {},
     "output_type": "execute_result"
    }
   ],
   "source": [
    "## A1*A2 this will not Run!!\n",
    "\n",
    "matrix1 = np.matrix(\n",
    "    [[0, 4],\n",
    "     [2, 0]]\n",
    ")\n",
    "matrix2 = np.matrix(\n",
    "    [[-1, 2,2],\n",
    "     [1, -2,2]]\n",
    ")\n",
    "\n",
    "matrix1*matrix2"
   ]
  },
  {
   "cell_type": "markdown",
   "metadata": {},
   "source": [
    "## To take product between matrices A and B\n",
    "1. where A is of shape (m by n) and B is of shape (k by h)\n",
    "1. A*B is defined if and only if n=k\n",
    "l. matrix2 $*$ matrix1 does not run is because you cannot take product between them\n",
    "1. as matrix2 is of shape (2 by 3) and matrix1 is of shape (2 by 2)"
   ]
  },
  {
   "cell_type": "code",
   "execution_count": 13,
   "metadata": {},
   "outputs": [
    {
     "ename": "ValueError",
     "evalue": "shapes (2,3) and (2,2) not aligned: 3 (dim 1) != 2 (dim 0)",
     "output_type": "error",
     "traceback": [
      "\u001b[0;31m---------------------------------------------------------------------------\u001b[0m",
      "\u001b[0;31mValueError\u001b[0m                                Traceback (most recent call last)",
      "\u001b[0;32m<ipython-input-13-1049e2f03172>\u001b[0m in \u001b[0;36m<module>\u001b[0;34m()\u001b[0m\n\u001b[1;32m      1\u001b[0m \u001b[0;31m## This doesn't run because the shapes of matrices do not match\u001b[0m\u001b[0;34m\u001b[0m\u001b[0;34m\u001b[0m\u001b[0m\n\u001b[0;32m----> 2\u001b[0;31m \u001b[0mmatrix2\u001b[0m\u001b[0;34m*\u001b[0m\u001b[0mmatrix1\u001b[0m\u001b[0;34m\u001b[0m\u001b[0m\n\u001b[0m",
      "\u001b[0;32m/Library/Frameworks/Python.framework/Versions/3.6/lib/python3.6/site-packages/numpy/matrixlib/defmatrix.py\u001b[0m in \u001b[0;36m__mul__\u001b[0;34m(self, other)\u001b[0m\n\u001b[1;32m    307\u001b[0m         \u001b[0;32mif\u001b[0m \u001b[0misinstance\u001b[0m\u001b[0;34m(\u001b[0m\u001b[0mother\u001b[0m\u001b[0;34m,\u001b[0m \u001b[0;34m(\u001b[0m\u001b[0mN\u001b[0m\u001b[0;34m.\u001b[0m\u001b[0mndarray\u001b[0m\u001b[0;34m,\u001b[0m \u001b[0mlist\u001b[0m\u001b[0;34m,\u001b[0m \u001b[0mtuple\u001b[0m\u001b[0;34m)\u001b[0m\u001b[0;34m)\u001b[0m \u001b[0;34m:\u001b[0m\u001b[0;34m\u001b[0m\u001b[0m\n\u001b[1;32m    308\u001b[0m             \u001b[0;31m# This promotes 1-D vectors to row vectors\u001b[0m\u001b[0;34m\u001b[0m\u001b[0;34m\u001b[0m\u001b[0m\n\u001b[0;32m--> 309\u001b[0;31m             \u001b[0;32mreturn\u001b[0m \u001b[0mN\u001b[0m\u001b[0;34m.\u001b[0m\u001b[0mdot\u001b[0m\u001b[0;34m(\u001b[0m\u001b[0mself\u001b[0m\u001b[0;34m,\u001b[0m \u001b[0masmatrix\u001b[0m\u001b[0;34m(\u001b[0m\u001b[0mother\u001b[0m\u001b[0;34m)\u001b[0m\u001b[0;34m)\u001b[0m\u001b[0;34m\u001b[0m\u001b[0m\n\u001b[0m\u001b[1;32m    310\u001b[0m         \u001b[0;32mif\u001b[0m \u001b[0misscalar\u001b[0m\u001b[0;34m(\u001b[0m\u001b[0mother\u001b[0m\u001b[0;34m)\u001b[0m \u001b[0;32mor\u001b[0m \u001b[0;32mnot\u001b[0m \u001b[0mhasattr\u001b[0m\u001b[0;34m(\u001b[0m\u001b[0mother\u001b[0m\u001b[0;34m,\u001b[0m \u001b[0;34m'__rmul__'\u001b[0m\u001b[0;34m)\u001b[0m \u001b[0;34m:\u001b[0m\u001b[0;34m\u001b[0m\u001b[0m\n\u001b[1;32m    311\u001b[0m             \u001b[0;32mreturn\u001b[0m \u001b[0mN\u001b[0m\u001b[0;34m.\u001b[0m\u001b[0mdot\u001b[0m\u001b[0;34m(\u001b[0m\u001b[0mself\u001b[0m\u001b[0;34m,\u001b[0m \u001b[0mother\u001b[0m\u001b[0;34m)\u001b[0m\u001b[0;34m\u001b[0m\u001b[0m\n",
      "\u001b[0;31mValueError\u001b[0m: shapes (2,3) and (2,2) not aligned: 3 (dim 1) != 2 (dim 0)"
     ]
    }
   ],
   "source": [
    "## This doesn't run because the shapes of matrices do not match\n",
    "matrix2*matrix1"
   ]
  },
  {
   "cell_type": "code",
   "execution_count": 75,
   "metadata": {
    "collapsed": true
   },
   "outputs": [],
   "source": []
  },
  {
   "cell_type": "markdown",
   "metadata": {},
   "source": [
    "# if one of the \"arrays\" is of matrix type, you are doing matrix operation!!"
   ]
  },
  {
   "cell_type": "code",
   "execution_count": 15,
   "metadata": {},
   "outputs": [
    {
     "name": "stdout",
     "output_type": "stream",
     "text": [
      "[[ 4 -8  8]\n",
      " [-2  4  4]]\n",
      "[[ 4 -8  8]\n",
      " [-2  4  4]]\n"
     ]
    }
   ],
   "source": [
    "print(matrix1 * matrix2)\n",
    "print(matrix1 * A2)"
   ]
  },
  {
   "cell_type": "markdown",
   "metadata": {},
   "source": []
  },
  {
   "cell_type": "markdown",
   "metadata": {},
   "source": [
    "# np.linalg -- linalg is the linear algebra modulo in python\n",
    "# linalg: https://docs.scipy.org/doc/numpy-1.13.0/reference/routines.linalg.html\n",
    "\n",
    "1. from np import linalg as lin\n",
    "1. lin.det -- determinant\n",
    "1. eigenvalues\n",
    "1. etc.."
   ]
  },
  {
   "cell_type": "code",
   "execution_count": 16,
   "metadata": {},
   "outputs": [
    {
     "name": "stdout",
     "output_type": "stream",
     "text": [
      "[[0 4]\n",
      " [2 0]]\n",
      "determinant(matrix1) -8.0\n"
     ]
    }
   ],
   "source": [
    "from numpy import linalg as lin\n",
    "print(matrix1)\n",
    "det = lin.det(matrix1)\n",
    "print('determinant(matrix1)', det)"
   ]
  },
  {
   "cell_type": "markdown",
   "metadata": {},
   "source": [
    "Eigenvalues & Eigenvectors\n",
    "Let A be an n x n matrix. The number λ is an eigenvalue of A if there exists a non-zero vector C such that\n",
    "\n",
    "Av = λv\n",
    "\n",
    "In this case, vector v is called an eigenvector of A corresponding to λ. You can use numpy to calculate the eigenvalues and eigenvectors of a matrix:\n",
    "\n",
    "The input matrix can either be matrix type or 2d array type"
   ]
  },
  {
   "cell_type": "code",
   "execution_count": 17,
   "metadata": {},
   "outputs": [
    {
     "name": "stdout",
     "output_type": "stream",
     "text": [
      "[[0 4]\n",
      " [2 0]]\n",
      "[ 2.82842712 -2.82842712]\n",
      "[ 2.82842712 -2.82842712]\n"
     ]
    }
   ],
   "source": [
    "print(A1)\n",
    "eigvals_a = lin.eigvals(A1)\n",
    "print( eigvals_a)\n",
    "\n",
    "eigvals_m = lin.eigvals(matrix1)\n",
    "print(eigvals_m)\n"
   ]
  },
  {
   "cell_type": "code",
   "execution_count": null,
   "metadata": {
    "collapsed": true
   },
   "outputs": [],
   "source": []
  },
  {
   "cell_type": "code",
   "execution_count": 18,
   "metadata": {},
   "outputs": [
    {
     "name": "stdout",
     "output_type": "stream",
     "text": [
      "[ 8.831+0.j    -0.000+0.j     0.584+0.581j  0.584-0.581j]\n"
     ]
    }
   ],
   "source": [
    "A = np.array([\n",
    " [1,2,3,4],   \n",
    " [0,2,3,4],  \n",
    " [0,0,3,4], \n",
    " [1,2,3,4],\n",
    "])\n",
    "\n",
    "eigvals_a = np.round(lin.eigvals(A),3)\n",
    "print(eigvals_a)\n"
   ]
  },
  {
   "cell_type": "markdown",
   "metadata": {},
   "source": [
    "## Solve linear equations Ax = b\n"
   ]
  },
  {
   "cell_type": "code",
   "execution_count": 19,
   "metadata": {},
   "outputs": [
    {
     "data": {
      "text/plain": [
       "array([ 0.5 ,  0.25])"
      ]
     },
     "execution_count": 19,
     "metadata": {},
     "output_type": "execute_result"
    }
   ],
   "source": [
    "A = matrix1\n",
    "b = np.array([1,1])\n",
    "solu = lin.solve(A,b)\n",
    "solu"
   ]
  },
  {
   "cell_type": "markdown",
   "metadata": {},
   "source": [
    "## If A is invertable, then x is $A^{-1}b$ "
   ]
  },
  {
   "cell_type": "code",
   "execution_count": 20,
   "metadata": {},
   "outputs": [
    {
     "data": {
      "text/plain": [
       "matrix([[ 0.5 ],\n",
       "        [ 0.25]])"
      ]
     },
     "execution_count": 20,
     "metadata": {},
     "output_type": "execute_result"
    }
   ],
   "source": [
    "invA = A**(-1)\n",
    "\n",
    "## But you cannot take invA*b\n",
    "## you can see that the solu above and invA*b here have different shapes of out put\n",
    "## even if the values agree.\n",
    "\n",
    "b = b.reshape((2,1))\n",
    "invA*b"
   ]
  },
  {
   "cell_type": "markdown",
   "metadata": {},
   "source": [
    "## Now we want to test what we have seen about markov chain step matrix"
   ]
  },
  {
   "cell_type": "code",
   "execution_count": 21,
   "metadata": {
    "collapsed": true
   },
   "outputs": [],
   "source": [
    "weather = np.loadtxt(datapath + 'weather_comma.txt',delimiter=',')\n",
    "P = np.matrix(weather)\n"
   ]
  },
  {
   "cell_type": "code",
   "execution_count": 23,
   "metadata": {},
   "outputs": [
    {
     "name": "stdout",
     "output_type": "stream",
     "text": [
      "\n",
      "P to the power  2\n",
      "[[ 0.4375  0.1875  0.375 ]\n",
      " [ 0.375   0.25    0.375 ]\n",
      " [ 0.375   0.1875  0.4375]]\n",
      "if equals previous power, False\n",
      "\n",
      "P to the power  3\n",
      "[[ 0.40625   0.203125  0.390625]\n",
      " [ 0.40625   0.1875    0.40625 ]\n",
      " [ 0.390625  0.203125  0.40625 ]]\n",
      "if equals previous power, False\n",
      "\n",
      "P to the power  4\n",
      "[[ 0.40234375  0.19921875  0.3984375 ]\n",
      " [ 0.3984375   0.203125    0.3984375 ]\n",
      " [ 0.3984375   0.19921875  0.40234375]]\n",
      "if equals previous power, False\n",
      "\n",
      "P to the power  5\n",
      "[[ 0.40039062  0.20019531  0.39941406]\n",
      " [ 0.40039062  0.19921875  0.40039062]\n",
      " [ 0.39941406  0.20019531  0.40039062]]\n",
      "if equals previous power, False\n",
      "\n",
      "P to the power  6\n",
      "[[ 0.40014648  0.19995117  0.39990234]\n",
      " [ 0.39990234  0.20019531  0.39990234]\n",
      " [ 0.39990234  0.19995117  0.40014648]]\n",
      "if equals previous power, False\n",
      "\n",
      "P to the power  7\n",
      "[[ 0.40002441  0.20001221  0.39996338]\n",
      " [ 0.40002441  0.19995117  0.40002441]\n",
      " [ 0.39996338  0.20001221  0.40002441]]\n",
      "if equals previous power, False\n",
      "\n",
      "P to the power  8\n",
      "[[ 0.40000916  0.19999695  0.3999939 ]\n",
      " [ 0.3999939   0.20001221  0.3999939 ]\n",
      " [ 0.3999939   0.19999695  0.40000916]]\n",
      "if equals previous power, False\n",
      "\n",
      "P to the power  9\n",
      "[[ 0.40000153  0.20000076  0.39999771]\n",
      " [ 0.40000153  0.19999695  0.40000153]\n",
      " [ 0.39999771  0.20000076  0.40000153]]\n",
      "if equals previous power, False\n"
     ]
    }
   ],
   "source": [
    "power_list = list()\n",
    "Pk = np.eye(3)\n",
    "for power in np.arange(0,11):\n",
    "    Pk = P*Pk## If you don't do rounding, you will not see powers agree\n",
    "    power_list.append(Pk)\n",
    "\n",
    "for power in np.arange(2,10):\n",
    "    print(\"\\nP to the power \", power)\n",
    "    print(power_list[power-1])\n",
    "    print('if equals previous power,',\n",
    "          np.array_equal(power_list[power-1] , power_list[power-2]  )\n",
    "         )"
   ]
  },
  {
   "cell_type": "code",
   "execution_count": 24,
   "metadata": {},
   "outputs": [
    {
     "name": "stdout",
     "output_type": "stream",
     "text": [
      "\n",
      "P to the power  2\n",
      "[[ 0.44  0.19  0.38]\n",
      " [ 0.38  0.25  0.38]\n",
      " [ 0.38  0.19  0.44]]\n",
      "if equals previous power, False\n",
      "\n",
      "P to the power  3\n",
      "[[ 0.41  0.2   0.4 ]\n",
      " [ 0.41  0.19  0.41]\n",
      " [ 0.4   0.2   0.41]]\n",
      "if equals previous power, False\n",
      "\n",
      "P to the power  4\n",
      "[[ 0.41  0.2   0.4 ]\n",
      " [ 0.4   0.2   0.4 ]\n",
      " [ 0.4   0.2   0.41]]\n",
      "if equals previous power, False\n",
      "\n",
      "P to the power  5\n",
      "[[ 0.4  0.2  0.4]\n",
      " [ 0.4  0.2  0.4]\n",
      " [ 0.4  0.2  0.4]]\n",
      "if equals previous power, False\n",
      "\n",
      "P to the power  6\n",
      "[[ 0.4  0.2  0.4]\n",
      " [ 0.4  0.2  0.4]\n",
      " [ 0.4  0.2  0.4]]\n",
      "if equals previous power, True\n",
      "\n",
      "P to the power  7\n",
      "[[ 0.4  0.2  0.4]\n",
      " [ 0.4  0.2  0.4]\n",
      " [ 0.4  0.2  0.4]]\n",
      "if equals previous power, True\n",
      "\n",
      "P to the power  8\n",
      "[[ 0.4  0.2  0.4]\n",
      " [ 0.4  0.2  0.4]\n",
      " [ 0.4  0.2  0.4]]\n",
      "if equals previous power, True\n",
      "\n",
      "P to the power  9\n",
      "[[ 0.4  0.2  0.4]\n",
      " [ 0.4  0.2  0.4]\n",
      " [ 0.4  0.2  0.4]]\n",
      "if equals previous power, True\n"
     ]
    }
   ],
   "source": [
    "power_list = list()\n",
    "Pk = np.eye(3)\n",
    "for power in np.arange(0,11):\n",
    "    Pk = np.round(P*Pk,2) ## added rounding and then you can see powers agree\n",
    "    power_list.append(Pk)\n",
    "\n",
    "for power in np.arange(2,10):\n",
    "    print(\"\\nP to the power \", power)\n",
    "    print(power_list[power-1])\n",
    "    print('if equals previous power,',\n",
    "          np.array_equal(power_list[power-1] , power_list[power-2]  )\n",
    "         )"
   ]
  },
  {
   "cell_type": "markdown",
   "metadata": {
    "collapsed": true
   },
   "source": [
    "## Now let's work with the rat's moving "
   ]
  },
  {
   "cell_type": "code",
   "execution_count": 25,
   "metadata": {
    "collapsed": true
   },
   "outputs": [],
   "source": [
    "import pandas as pd\n",
    "r = np.matrix(pd.read_table(datapath+'rat.txt',delimiter=',',header = None).values)"
   ]
  },
  {
   "cell_type": "markdown",
   "metadata": {},
   "source": [
    "### Consider a rat in a maze with 3 cells, indexed as 1,2,3 and the outside (freedom), indexed by 4 (that can only be reached via cell 3). \n",
    "### The rat starts initially in a given cell and then takes a move to another cell, continuing to do so until finally reaching freedom. \n",
    "\n",
    "## Goal: simulate rat moving around and count steps it takes to get to freedom\n",
    "<img src=\"4rat.png\" alt=\"Drawing\" style=\"width: 300px;\"/>\n",
    "\n",
    "$$\n",
    "P = \\begin{pmatrix}\n",
    "0 & 1 & 0 & 0\\\\\n",
    "1/3 & 0 & 1/3 & 1/3\\\\\n",
    "0 & 1 & 0 & 0\\\\\n",
    "0 & 0 & 0 & 1\\\\\n",
    "\\end{pmatrix}\n",
    "$$"
   ]
  },
  {
   "cell_type": "code",
   "execution_count": null,
   "metadata": {
    "collapsed": true
   },
   "outputs": [],
   "source": []
  },
  {
   "cell_type": "code",
   "execution_count": 2,
   "metadata": {
    "collapsed": true
   },
   "outputs": [],
   "source": [
    "S = [1,2,3,4]\n",
    "import random\n",
    "import numpy as np\n",
    "## start moving from location i, \n",
    "## number of steps it takes to get to freedom\n",
    "## recursion\n",
    "def steps(i):\n",
    "    #print(i,'->')\n",
    "    if(i==1):\n",
    "        next_move = 2\n",
    "        return 1+steps(next_move)\n",
    "    \n",
    "    if(i == 2):\n",
    "        next_move = random.choice([1,3,4])\n",
    "        return 1+steps(next_move)\n",
    "        \n",
    "    if(i == 3):\n",
    "        next_move = 2\n",
    "        return 1+steps(next_move)\n",
    "    \n",
    "    if(i == 4):\n",
    "        return 1\n",
    "    "
   ]
  },
  {
   "cell_type": "code",
   "execution_count": 37,
   "metadata": {},
   "outputs": [
    {
     "name": "stdout",
     "output_type": "stream",
     "text": [
      "start at cell 2\n",
      "2 ->\n",
      "3 ->\n",
      "2 ->\n",
      "4 ->\n",
      "4\n",
      "start at cell 2\n",
      "2 ->\n",
      "4 ->\n",
      "2\n",
      "start at cell 2\n",
      "2 ->\n",
      "1 ->\n",
      "2 ->\n",
      "4 ->\n",
      "4\n",
      "start at cell 2\n",
      "2 ->\n",
      "3 ->\n",
      "2 ->\n",
      "3 ->\n",
      "2 ->\n",
      "4 ->\n",
      "6\n",
      "start at cell 2\n",
      "2 ->\n",
      "1 ->\n",
      "2 ->\n",
      "4 ->\n",
      "4\n",
      "start at cell 2\n",
      "2 ->\n",
      "1 ->\n",
      "2 ->\n",
      "4 ->\n",
      "4\n",
      "start at cell 2\n",
      "2 ->\n",
      "4 ->\n",
      "2\n",
      "start at cell 2\n",
      "2 ->\n",
      "4 ->\n",
      "2\n",
      "start at cell 2\n",
      "2 ->\n",
      "1 ->\n",
      "2 ->\n",
      "4 ->\n",
      "4\n",
      "start at cell 2\n",
      "2 ->\n",
      "1 ->\n",
      "2 ->\n",
      "1 ->\n",
      "2 ->\n",
      "1 ->\n",
      "2 ->\n",
      "1 ->\n",
      "2 ->\n",
      "1 ->\n",
      "2 ->\n",
      "4 ->\n",
      "12\n"
     ]
    }
   ],
   "source": [
    "for run in range(10):\n",
    "    print('start at cell',2)\n",
    "    print(steps(2))"
   ]
  },
  {
   "cell_type": "markdown",
   "metadata": {
    "collapsed": true
   },
   "source": [
    "## I want to count in general, \n",
    "## on average how many steps it takes to start from cell 2 and ends with freedom\n",
    "<img src=\"4rat.png\" alt=\"Drawing\" style=\"width: 300px;\"/>\n"
   ]
  },
  {
   "cell_type": "code",
   "execution_count": 6,
   "metadata": {
    "collapsed": true
   },
   "outputs": [],
   "source": [
    "## Run N = 100 times, each time compute average of 50 moves\n",
    "\n",
    "def steps(i): \n",
    "    #print(i,'->') turn off print to run simulations\n",
    "    if(i==1):\n",
    "        next_move = 2\n",
    "        return 1+steps(next_move)\n",
    "    \n",
    "    if(i == 2):\n",
    "        next_move = random.choice([1,3,4])\n",
    "        return 1+steps(next_move)\n",
    "        \n",
    "    if(i == 3):\n",
    "        next_move = 2\n",
    "        return 1+steps(next_move)\n",
    "    \n",
    "    if(i == 4):\n",
    "        return 0\n",
    "    \n",
    "    \n"
   ]
  },
  {
   "cell_type": "code",
   "execution_count": 8,
   "metadata": {},
   "outputs": [
    {
     "name": "stdout",
     "output_type": "stream",
     "text": [
      "start move from cell 1\n"
     ]
    },
    {
     "data": {
      "image/png": "[encoded data removed]",
      "text/plain": [
       "<matplotlib.figure.Figure at 0x10652cf60>"
      ]
     },
     "metadata": {},
     "output_type": "display_data"
    },
    {
     "name": "stdout",
     "output_type": "stream",
     "text": [
      "6.0048\n",
      "start move from cell 2\n"
     ]
    },
    {
     "data": {
      "image/png": "[encoded data removed]",
      "text/plain": [
       "<matplotlib.figure.Figure at 0x10694f240>"
      ]
     },
     "metadata": {},
     "output_type": "display_data"
    },
    {
     "name": "stdout",
     "output_type": "stream",
     "text": [
      "4.952\n",
      "start move from cell 3\n"
     ]
    },
    {
     "data": {
      "image/png": "[encoded data removed]",
      "text/plain": [
       "<matplotlib.figure.Figure at 0x106626358>"
      ]
     },
     "metadata": {},
     "output_type": "display_data"
    },
    {
     "name": "stdout",
     "output_type": "stream",
     "text": [
      "6.1\n"
     ]
    }
   ],
   "source": [
    "import matplotlib.pyplot as plt\n",
    "\n",
    "\n",
    "for start in [1,2,3]:\n",
    "    Run_total = np.zeros(100)\n",
    "    N_move    = 50\n",
    "    print(\"start move from cell\", start)\n",
    "    for each_run in range(100):\n",
    "        move = np.zeros(N_move)\n",
    "        for each_move in range(N_move):\n",
    "            move[each_move] = steps(start)\n",
    "        Run_total[each_run] = np.mean(move)\n",
    "    plt.hist(Run_total,bins = 10)\n",
    "    plt.show()\n",
    "    print(Run_total.mean())\n"
   ]
  },
  {
   "cell_type": "code",
   "execution_count": null,
   "metadata": {
    "collapsed": true
   },
   "outputs": [],
   "source": []
  }
 ],
 "metadata": {
  "anaconda-cloud": {},
  "kernelspec": {
   "display_name": "Python 3",
   "language": "python",
   "name": "python3"
  },
  "language_info": {
   "codemirror_mode": {
    "name": "ipython",
    "version": 3
   },
   "file_extension": ".py",
   "mimetype": "text/x-python",
   "name": "python",
   "nbconvert_exporter": "python",
   "pygments_lexer": "ipython3",
   "version": "3.6.0"
  }
 },
 "nbformat": 4,
 "nbformat_minor": 1
}
