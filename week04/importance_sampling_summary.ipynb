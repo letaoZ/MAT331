{
 "cells": [
  {
   "cell_type": "markdown",
   "metadata": {},
   "source": [
    "### Goal: 求 $h(x)$的expectation，where $x\\tilde{} f(x)$, $f$ 难sample，不知道或者得到结果的variance很大\n",
    "\n",
    "Monte Carlo:\n",
    "$$E_f[h] = \\lim_{N\\rightarrow \\infty} \\frac{1}{N} \\sum_{x_{i}\\sim f(.)} h(x_i)$$\n",
    "$$Var_f[h] =   \\lim_{N\\rightarrow \\infty} \\frac{1}{N} \\sum_{x_{i}\\sim f(.)}  (h(x_i) - E)^2 $$\n",
    "\n",
    "\n",
    "### 如果我们想reduce variance，我们可以引入一个新的distribution $g(x)$, 且$g$ 很easy to sample。则我们有 \n",
    "\n",
    "$$ E_f[h] = \\int h(x) g(x) \\frac{f(x)}{g(x)} dx $$\n",
    "$$ E_f[h] = E_g[\\frac{fh}{g}] = \\lim_{N\\rightarrow \\infty} \\frac{1}{N} \\sum_{x_{i}\\sim g(.)} h(x_i)\\frac{f(x_i)}{g(x_i)} $$\n",
    "\n",
    "这样我们把$\\frac{f}{g}$可以看做一个weight！$w(x) = \\frac{f}{g}$\n",
    "\n",
    "\n",
    "这时候，variance变化为（ $N$ is the sample size. ）\n",
    "$$\\hat{V} = \\frac{V_f[h(x)]}{N} \\rightarrow \\hat{V} = \\frac{V_g[w(x)h(x)]}{N}$$\n",
    "\n",
    "### Our game here now is to try and minimize  $V_g[w(x)h(x)]$.\n",
    "如果这个variance是0，则$w(x)h(x) = Constant \\implies f(x) h(x) = C g(x) \\rightarrow g(x) = \\frac{f(x)h(x)}{C} $。  $g(x)$ is a distribution so $C$ is determined, can be ignored.\n",
    "\n",
    "### suitable $g(x)$ should satisfy:\n",
    "1. $g(x)>0$ whenever $f(x)h(x)!=0$\n",
    "1. $g(x)$ is suitably close to $f(x)h(x)$, \n",
    "\n",
    "To achieve low variance, we must have **$g(x)$ large where the product  $f(x)h(x)$ is large**. This means that, as we said earlier, choose more samples near the peak of  $f(x)h(x)$ .\n",
    "\n"
   ]
  },
  {
   "cell_type": "markdown",
   "metadata": {},
   "source": [
    "### Tails of the distributions matter! \n",
    "\n",
    "While $g(x)$ might be roughly the same shape as $f(x)$, serious difficulties arise if $g(x)$ gets small much faster than $f(x)$ out in the tails. \n",
    "\n",
    "Choose $g(x)$ appropriately, it should have thicker tails than $f$, or the ratio $f/g$ will be too big and count contribute too much in the tails.\n",
    "\n",
    "![](images/importance.png)\n",
    "\n",
    "Another way of seeing this whole thing is that we will draw the sample from a proposal\n",
    "distribution and re-weight the integral appropriately so that the expectation with respect to the correct distribution is used. And since $f/g$ is flatter than $f$, the variance of $h \\times f/g$ is smaller that the variance of $h \\times f$ and therefore the error will be smaller for all $N$."
   ]
  },
  {
   "cell_type": "markdown",
   "metadata": {},
   "source": []
  },
  {
   "cell_type": "code",
   "execution_count": null,
   "metadata": {
    "collapsed": true
   },
   "outputs": [],
   "source": []
  }
 ],
 "metadata": {
  "kernelspec": {
   "display_name": "Python 3",
   "language": "python",
   "name": "python3"
  },
  "language_info": {
   "codemirror_mode": {
    "name": "ipython",
    "version": 3
   },
   "file_extension": ".py",
   "mimetype": "text/x-python",
   "name": "python",
   "nbconvert_exporter": "python",
   "pygments_lexer": "ipython3",
   "version": "3.6.0"
  }
 },
 "nbformat": 4,
 "nbformat_minor": 2
}
