{
 "cells": [
  {
   "cell_type": "code",
   "execution_count": 45,
   "metadata": {
    "collapsed": true
   },
   "outputs": [],
   "source": [
    "%matplotlib inline\n",
    "import numpy as np\n",
    "import scipy as sp\n",
    "import matplotlib as mpl\n",
    "import matplotlib.cm as cm\n",
    "import matplotlib.pyplot as plt\n",
    "import pandas as pd\n",
    "pd.set_option('display.width', 500)\n",
    "pd.set_option('display.max_columns', 100)\n",
    "pd.set_option('display.notebook_repr_html', True)\n",
    "import seaborn as sns\n",
    "sns.set_style(\"whitegrid\")\n",
    "sns.set_context(\"poster\")"
   ]
  },
  {
   "cell_type": "code",
   "execution_count": null,
   "metadata": {
    "collapsed": true
   },
   "outputs": [],
   "source": []
  },
  {
   "cell_type": "code",
   "execution_count": 46,
   "metadata": {
    "collapsed": true
   },
   "outputs": [],
   "source": [
    "def make_simple_plot():\n",
    "    fig, axes=plt.subplots(figsize=(12,5), nrows=1, ncols=2);\n",
    "    axes[0].set_ylabel(\"$y$\")\n",
    "    axes[0].set_xlabel(\"$x$\")\n",
    "    axes[1].set_xlabel(\"$x$\")\n",
    "    axes[1].set_yticklabels([])\n",
    "    axes[0].set_ylim([-2,2])\n",
    "    axes[1].set_ylim([-2,2])\n",
    "    plt.tight_layout();\n",
    "    return axes\n",
    "def make_plot():\n",
    "    fig, axes=plt.subplots(figsize=(20,8), nrows=1, ncols=2);\n",
    "    axes[0].set_ylabel(\"$p_R$\")\n",
    "    axes[0].set_xlabel(\"$x$\")\n",
    "    axes[1].set_xlabel(\"$x$\")\n",
    "    axes[1].set_yticklabels([])\n",
    "    axes[0].set_ylim([0,1])\n",
    "    axes[1].set_ylim([0,1])\n",
    "    axes[0].set_xlim([0,1])\n",
    "    axes[1].set_xlim([0,1])\n",
    "    plt.tight_layout();\n",
    "    return axes"
   ]
  },
  {
   "cell_type": "markdown",
   "metadata": {},
   "source": [
    "## We will introduce linear regressiong first using very fundamental methods using \n",
    "    from sklearn.preprocessing import PolynomialFeatures\n",
    "\n",
    "## Then do a multifeature linear regression with Theano"
   ]
  },
  {
   "cell_type": "markdown",
   "metadata": {},
   "source": [
    "#### Data\n",
    "1. $x$ portion of religious people in a county \n",
    "1. $y$ be the probability of voting for Rom\n",
    "1. $y$ should be written as a function of $x$-- we want to predict $y$\n"
   ]
  },
  {
   "cell_type": "code",
   "execution_count": 47,
   "metadata": {},
   "outputs": [
    {
     "data": {
      "text/html": [
       "<div>\n",
       "<style>\n",
       "    .dataframe thead tr:only-child th {\n",
       "        text-align: right;\n",
       "    }\n",
       "\n",
       "    .dataframe thead th {\n",
       "        text-align: left;\n",
       "    }\n",
       "\n",
       "    .dataframe tbody tr th {\n",
       "        vertical-align: top;\n",
       "    }\n",
       "</style>\n",
       "<table border=\"1\" class=\"dataframe\">\n",
       "  <thead>\n",
       "    <tr style=\"text-align: right;\">\n",
       "      <th></th>\n",
       "      <th>promney</th>\n",
       "      <th>rfrac</th>\n",
       "    </tr>\n",
       "  </thead>\n",
       "  <tbody>\n",
       "    <tr>\n",
       "      <th>0</th>\n",
       "      <td>0.047790</td>\n",
       "      <td>0.00</td>\n",
       "    </tr>\n",
       "    <tr>\n",
       "      <th>1</th>\n",
       "      <td>0.051199</td>\n",
       "      <td>0.01</td>\n",
       "    </tr>\n",
       "    <tr>\n",
       "      <th>2</th>\n",
       "      <td>0.054799</td>\n",
       "      <td>0.02</td>\n",
       "    </tr>\n",
       "    <tr>\n",
       "      <th>3</th>\n",
       "      <td>0.058596</td>\n",
       "      <td>0.03</td>\n",
       "    </tr>\n",
       "    <tr>\n",
       "      <th>4</th>\n",
       "      <td>0.062597</td>\n",
       "      <td>0.04</td>\n",
       "    </tr>\n",
       "  </tbody>\n",
       "</table>\n",
       "</div>"
      ],
      "text/plain": [
       "    promney  rfrac\n",
       "0  0.047790   0.00\n",
       "1  0.051199   0.01\n",
       "2  0.054799   0.02\n",
       "3  0.058596   0.03\n",
       "4  0.062597   0.04"
      ]
     },
     "execution_count": 47,
     "metadata": {},
     "output_type": "execute_result"
    }
   ],
   "source": [
    "dffull=pd.read_csv(\"religion.csv\")\n",
    "dffull.head()"
   ]
  },
  {
   "cell_type": "markdown",
   "metadata": {},
   "source": [
    "### In an IDEAL world, you will see some smooth \"fit\" as the following by some god giving function. But in reality, you will see noisy data"
   ]
  },
  {
   "cell_type": "code",
   "execution_count": 48,
   "metadata": {},
   "outputs": [
    {
     "data": {
      "text/plain": [
       "[<matplotlib.lines.Line2D at 0x1152a8470>]"
      ]
     },
     "execution_count": 48,
     "metadata": {},
     "output_type": "execute_result"
    },
    {
     "data": {
      "image/png": "[encoded data removed]",
      "text/plain": [
       "<matplotlib.figure.Figure at 0x11524d3c8>"
      ]
     },
     "metadata": {},
     "output_type": "display_data"
    }
   ],
   "source": [
    "## all data without noise\n",
    "x = dffull.rfrac.values\n",
    "f = dffull.promney.values\n",
    "plt.style.use(style='ggplot')\n",
    "plt.plot(x,f,'.', alpha=0.3)"
   ]
  },
  {
   "cell_type": "code",
   "execution_count": 49,
   "metadata": {},
   "outputs": [
    {
     "data": {
      "text/html": [
       "<div>\n",
       "<style>\n",
       "    .dataframe thead tr:only-child th {\n",
       "        text-align: right;\n",
       "    }\n",
       "\n",
       "    .dataframe thead th {\n",
       "        text-align: left;\n",
       "    }\n",
       "\n",
       "    .dataframe tbody tr th {\n",
       "        vertical-align: top;\n",
       "    }\n",
       "</style>\n",
       "<table border=\"1\" class=\"dataframe\">\n",
       "  <thead>\n",
       "    <tr style=\"text-align: right;\">\n",
       "      <th></th>\n",
       "      <th>f</th>\n",
       "      <th>i</th>\n",
       "      <th>x</th>\n",
       "      <th>y</th>\n",
       "    </tr>\n",
       "  </thead>\n",
       "  <tbody>\n",
       "    <tr>\n",
       "      <th>0</th>\n",
       "      <td>0.075881</td>\n",
       "      <td>7</td>\n",
       "      <td>0.07</td>\n",
       "      <td>0.138973</td>\n",
       "    </tr>\n",
       "    <tr>\n",
       "      <th>1</th>\n",
       "      <td>0.085865</td>\n",
       "      <td>9</td>\n",
       "      <td>0.09</td>\n",
       "      <td>0.050510</td>\n",
       "    </tr>\n",
       "    <tr>\n",
       "      <th>2</th>\n",
       "      <td>0.096800</td>\n",
       "      <td>11</td>\n",
       "      <td>0.11</td>\n",
       "      <td>0.183821</td>\n",
       "    </tr>\n",
       "    <tr>\n",
       "      <th>3</th>\n",
       "      <td>0.184060</td>\n",
       "      <td>23</td>\n",
       "      <td>0.23</td>\n",
       "      <td>0.057621</td>\n",
       "    </tr>\n",
       "    <tr>\n",
       "      <th>4</th>\n",
       "      <td>0.285470</td>\n",
       "      <td>33</td>\n",
       "      <td>0.33</td>\n",
       "      <td>0.358174</td>\n",
       "    </tr>\n",
       "  </tbody>\n",
       "</table>\n",
       "</div>"
      ],
      "text/plain": [
       "          f   i     x         y\n",
       "0  0.075881   7  0.07  0.138973\n",
       "1  0.085865   9  0.09  0.050510\n",
       "2  0.096800  11  0.11  0.183821\n",
       "3  0.184060  23  0.23  0.057621\n",
       "4  0.285470  33  0.33  0.358174"
      ]
     },
     "execution_count": 49,
     "metadata": {},
     "output_type": "execute_result"
    }
   ],
   "source": [
    "df = pd.read_csv(\"noisysample.csv\")\n",
    "df.head()"
   ]
  },
  {
   "cell_type": "markdown",
   "metadata": {},
   "source": [
    "Now, in real life we are only given a sample of points. Lets assume that out of this population of 200 points we are given a sample $\\cal{D}$ of 30 data points. Such data is called **in-sample data**. Contrastingly, the entire population of data points is also called **out-of-sample data**."
   ]
  },
  {
   "cell_type": "code",
   "execution_count": 50,
   "metadata": {},
   "outputs": [
    {
     "data": {
      "image/png": "[encoded data removed]",
      "text/plain": [
       "<matplotlib.figure.Figure at 0x11521f2e8>"
      ]
     },
     "metadata": {},
     "output_type": "display_data"
    }
   ],
   "source": [
    "## NOTE: y stands for noisy data for x\n",
    "axes=make_plot()\n",
    "axes[0].plot(x,f, 'k-', alpha=0.4, label=\"f (from the Lord)\");\n",
    "axes[0].plot(x,f, 'r.', alpha=0.2, label=\"population\");\n",
    "axes[1].plot(df.x,df.f, 'o', alpha=0.6, \\\n",
    "             label=\"in-sample noiseless data $\\cal{D}$\");\n",
    "axes[1].plot(df.x,df.y, 's', alpha=0.6, \\\n",
    "             label=\"in-sample noisy data $\\cal{D}$\");\n",
    "axes[0].legend(loc=4);\n",
    "axes[1].legend(loc=4);"
   ]
  },
  {
   "cell_type": "markdown",
   "metadata": {},
   "source": [
    "### Mathematically, we are trying to solve:\n",
    "$$\n",
    "\\begin{eqnarray*}\n",
    "A &:& R_{in-sample}(g) \\,\\,smallest\\,on\\,\\cal{H}\\\\\n",
    "B &:& R_{out} (g) \\approx R_{\\cal{D}}(g)\n",
    "\\end{eqnarray*}\n",
    "$$\n",
    "\n",
    " we hope the **empirical risk estimates** also makes the  **out of sample risk is also small**.\n",
    " \n",
    " \n",
    "### idea\n",
    "split dataset into \n",
    "1. D = samples for training\n",
    "1. test set = samples for testing\n",
    "1. try to find polynomial degree d that minimize test set error.In particular, degree $d$ polynomial with parameters $\\Theta$, $$g_d(x) = \\theta_0+\\theta_1 x+\\dots+\\theta_d x^d$$ \n",
    "1. use \"sklearn.preprocessing\" method:  PolynomialFeatures. to generate $x^{i},i=0,\\dots,d$"
   ]
  },
  {
   "cell_type": "code",
   "execution_count": 51,
   "metadata": {},
   "outputs": [
    {
     "data": {
      "text/plain": [
       "30"
      ]
     },
     "execution_count": 51,
     "metadata": {},
     "output_type": "execute_result"
    }
   ],
   "source": [
    "from sklearn.model_selection import train_test_split\n",
    "datasize=df.shape[0]\n",
    "datasize"
   ]
  },
  {
   "cell_type": "code",
   "execution_count": null,
   "metadata": {
    "collapsed": true
   },
   "outputs": [],
   "source": []
  },
  {
   "cell_type": "code",
   "execution_count": 52,
   "metadata": {
    "collapsed": true
   },
   "outputs": [],
   "source": [
    "## split dataset using the index, \n",
    "## we have x,f, and noisy y that we want to split.\n",
    "## the train_test_split is random and unordered\n",
    "## you can use: random_state = 0 to fix a split\n",
    "itrain,itest = train_test_split(range(datasize),\\\n",
    "                                train_size=24, test_size=datasize-24)\n",
    "\n",
    "## xtrain and test are the same for noisy/noiesless\n",
    "xtrain = df.x[itrain].values\n",
    "xtest  = df.x[itest].values\n",
    "\n",
    "## noiseless\n",
    "ftrain = df.f[itrain].values\n",
    "ftest  = df.f[itest].values\n",
    "\n",
    "## noise\n",
    "ytrain = df.y[itrain].values\n",
    "ytest  = df.y[itest].values\n",
    "\n"
   ]
  },
  {
   "cell_type": "code",
   "execution_count": 53,
   "metadata": {},
   "outputs": [
    {
     "data": {
      "text/plain": [
       "<matplotlib.legend.Legend at 0x114f88588>"
      ]
     },
     "execution_count": 53,
     "metadata": {},
     "output_type": "execute_result"
    },
    {
     "data": {
      "image/png": "[encoded data removed]",
      "text/plain": [
       "<matplotlib.figure.Figure at 0x1150bb390>"
      ]
     },
     "metadata": {},
     "output_type": "display_data"
    }
   ],
   "source": [
    "axes=make_plot()\n",
    "axes[0].plot(df.x,df.f, 'k*', alpha=0.6, label=\"f (from the Lord)\");\n",
    "axes[0].plot(df.x,df.y, 'o',alpha=0.6, label=\"$noisy y\");\n",
    "axes[1].plot(df.x,df.f, 'k-', alpha=0.6, label=\"f (from the Lord)\");\n",
    "axes[1].plot(xtrain, ytrain, 's', label=\"noi training\")\n",
    "axes[1].plot(xtest, ytest, 's', label=\"noi testing\")\n",
    "axes[0].legend(loc=4)\n",
    "axes[1].legend(loc=4)\n"
   ]
  },
  {
   "cell_type": "code",
   "execution_count": 54,
   "metadata": {
    "collapsed": true
   },
   "outputs": [],
   "source": [
    "## use sklearn\n",
    "from sklearn.preprocessing import PolynomialFeatures\n",
    "\n",
    "## generate a 3X 5 2d array\n",
    "## each row is: i^0, i^1... i^d,\n",
    "## pay attension to transform shape\n",
    "PolynomialFeatures(4).fit_transform([[1],[2], [3]])\n",
    "\n",
    "def make_features(train_set, test_set, degrees):\n",
    "    traintestlist=[]\n",
    "    for d in degrees:\n",
    "        traintestdict={}\n",
    "        traintestdict['train'] = \\\n",
    "            PolynomialFeatures(d).fit_transform(train_set.reshape(-1,1))\n",
    "        traintestdict['test'] = \\\n",
    "            PolynomialFeatures(d).fit_transform(test_set.reshape(-1,1))\n",
    "        traintestlist.append(traintestdict)\n",
    "    return traintestlist\n"
   ]
  },
  {
   "cell_type": "code",
   "execution_count": null,
   "metadata": {
    "collapsed": true
   },
   "outputs": [],
   "source": []
  },
  {
   "cell_type": "code",
   "execution_count": 55,
   "metadata": {
    "collapsed": true
   },
   "outputs": [],
   "source": [
    "from sklearn.linear_model import LinearRegression\n",
    "from sklearn.metrics import mean_squared_error\n",
    "\n",
    "degrees     =range(21)\n",
    "error_train =np.empty(len(degrees))\n",
    "error_test  = np.empty(len(degrees))\n"
   ]
  },
  {
   "cell_type": "code",
   "execution_count": null,
   "metadata": {
    "collapsed": true
   },
   "outputs": [],
   "source": []
  },
  {
   "cell_type": "code",
   "execution_count": 56,
   "metadata": {},
   "outputs": [
    {
     "name": "stdout",
     "output_type": "stream",
     "text": [
      "err train 0.036709213196386745\n",
      "err test  0.11279838212264719\n"
     ]
    }
   ],
   "source": [
    "## degree 3 fit, Note that\n",
    "## the input in LinearRegression().fit need\n",
    "## each row of Xtrain as a sample,\n",
    "## ytrain to be a 1-d array \n",
    "est3 = LinearRegression()\n",
    "est3.fit(traintestlists[3]['train'], ytrain)\n",
    "pred_on_train3=est3.predict(traintestlists[3]['train'])\n",
    "pred_on_test3=est3.predict(traintestlists[3]['test'])\n",
    "\n",
    "print(\"err train\",mean_squared_error(ytrain, pred_on_train3))\n",
    "print(\"err test \",mean_squared_error(ytest, pred_on_test3))"
   ]
  },
  {
   "cell_type": "code",
   "execution_count": 57,
   "metadata": {},
   "outputs": [
    {
     "name": "stdout",
     "output_type": "stream",
     "text": [
      "err train 0.002742753949091186\n",
      "err test  23154707.76156648\n"
     ]
    }
   ],
   "source": [
    "## degree 20 fit, Note that\n",
    "## the input in LinearRegression().fit need\n",
    "## each row of Xtrain as a sample,\n",
    "## ytrain to be a 1-d array \n",
    "est20 = LinearRegression()\n",
    "est20.fit(traintestlists[20]['train'], ytrain)\n",
    "pred_on_train20=est20.predict(traintestlists[20]['train'])\n",
    "pred_on_test20=est20.predict(traintestlists[20]['test'])\n",
    "\n",
    "print(\"err train\",mean_squared_error(ytrain, pred_on_train20))\n",
    "print(\"err test \",mean_squared_error(ytest, pred_on_test20))"
   ]
  },
  {
   "cell_type": "code",
   "execution_count": 58,
   "metadata": {
    "collapsed": true
   },
   "outputs": [],
   "source": [
    "for d in degrees:#for increasing polynomial degrees 0,1,2...\n",
    "    Xtrain = traintestlists[d]['train']\n",
    "    Xtest = traintestlists[d]['test']\n",
    "    #set up model\n",
    "    #fit\n",
    "    #predict\n",
    "    #calculate mean squared error\n",
    "    #set up model\n",
    "    est = LinearRegression()\n",
    "    #fit\n",
    "    est.fit(Xtrain, ytrain)\n",
    "    #predict\n",
    "    prediction_on_training = est.predict(Xtrain)\n",
    "    prediction_on_test = est.predict(Xtest)\n",
    "    #calculate mean squared error\n",
    "    error_train[d] = mean_squared_error(ytrain, prediction_on_training)\n",
    "    error_test[d] = mean_squared_error(ytest, prediction_on_test)"
   ]
  },
  {
   "cell_type": "code",
   "execution_count": 59,
   "metadata": {},
   "outputs": [
    {
     "data": {
      "image/png": "[encoded data removed]",
      "text/plain": [
       "<matplotlib.figure.Figure at 0x11507c080>"
      ]
     },
     "metadata": {},
     "output_type": "display_data"
    }
   ],
   "source": [
    "plt.plot(degrees, error_train, marker='o', label='train (in-sample)')\n",
    "plt.plot(degrees, error_test, marker='o', label='test')\n",
    "plt.axvline(np.argmin(error_test), 0,0.5, color='r', alpha=0.3,\\\n",
    "            label=\"min test error at d=%d\"%np.argmin(error_test))\n",
    "plt.ylabel('mean squared error')\n",
    "plt.xlabel('degree')\n",
    "plt.legend(loc='upper left')\n",
    "plt.yscale(\"log\")\n"
   ]
  },
  {
   "cell_type": "markdown",
   "metadata": {},
   "source": [
    "## Theano\n",
    "it's a python lib that: define, optimize, and evaluate math expressions, especially ones with multi-dimensional arrays. Some of its advantages over other libraries (eg numpy):\n",
    "\n",
    "1. Execution speed optimizations: Theano can use g++ / nvcc to compile parts your expression graph into CPU or GPU instructions, which run much faster than pure Python.\n",
    "1. Symbolic differentiation: Theano can automatically build symbolic graphs for computing gradients. One powerful feature of Theano is that once you define symbolic variables, you can write expressions for those variables and convert these expressions into callable objects that can evaluate the expression for any value of the variables:\n",
    "        Many of the types and symbols that we use are within the Theano subpackage theno.tensor.\n",
    "\n"
   ]
  },
  {
   "cell_type": "code",
   "execution_count": 26,
   "metadata": {},
   "outputs": [
    {
     "data": {
      "text/plain": [
       "array(1.41421356)"
      ]
     },
     "execution_count": 26,
     "metadata": {},
     "output_type": "execute_result"
    }
   ],
   "source": [
    "import theano\n",
    "from theano import *\n",
    "import theano.tensor as T\n",
    "\n",
    "# declare two symbolic floating-point scalars\n",
    "a = T.dscalar('a')\n",
    "b = T.dscalar('b')\n",
    "\n",
    "# create a simple expression\n",
    "c = a ** b\n",
    "\n",
    "# convert the expression into a callable object that takes (a,b)\n",
    "# values as input and computes a value for c\n",
    "f = function([a,b], c)\n",
    "# Behind the scenes, when you call theano.function, f is compiled into C code.\n",
    "\n",
    "# bind 1.5 to 'a', 2.5 to 'b', and evaluate 'c'\n",
    "# Note: the output is an array\n",
    "f(2,1/2)"
   ]
  },
  {
   "cell_type": "code",
   "execution_count": 32,
   "metadata": {},
   "outputs": [
    {
     "data": {
      "text/plain": [
       "array([[10.,  0.],\n",
       "       [ 0., 40.]])"
      ]
     },
     "execution_count": 32,
     "metadata": {},
     "output_type": "execute_result"
    }
   ],
   "source": [
    "# declare two symbolic floating-point matrices\n",
    "x = T.matrix('x')\n",
    "y = T.matrix('y')\n",
    "\n",
    "# expression\n",
    "# The product you seen is entry by entry!! Not matrix product!\n",
    "z = x * y\n",
    "\n",
    "# convert into callable\n",
    "f = function([x, y], z)\n",
    "\n",
    "# Evaluate\n",
    "f([[1, 0], [0, 1]], [[10, 20], [30, 40]])\n"
   ]
  },
  {
   "cell_type": "markdown",
   "metadata": {},
   "source": [
    "There are other available Theano types, and all of them we can preform similar operations.\n",
    "1. byte: bscalar, bvector, bmatrix, brow, bcol, btensor3, btensor4\n",
    "1. 16-bit integers: wscalar, wvector, wmatrix, wrow, wcol, wtensor3, wtensor4\n",
    "1. 32-bit integers: iscalar, ivector, imatrix, irow, icol, itensor3, itensor4\n",
    "1. 64-bit integers: lscalar, lvector, lmatrix, lrow, lcol, ltensor3, ltensor4\n",
    "1. nfloat: fscalar, fvector, fmatrix, frow, fcol, ftensor3, ftensor4\n",
    "1. double: dscalar, dvector, dmatrix, drow, dcol, dtensor3, dtensor4\n",
    "1. complex: cscalar, cvector, cmatrix, crow, ccol, ctensor3, ctensor4\n",
    "\n",
    "### Logistic function -- sigmoid func\n",
    "\n",
    "$$s(z) = \\frac{1}{1 + e^{-z}}$$\n",
    "\n",
    "Build a Theano graph that represents $s(z)$, ,evaluate it in a 2x2 matrix , and we can also avaluate it on a vector and plot it:\n",
    "\n",
    "Note that: when you plug in a vector/matrix, you need the function to have [] around x"
   ]
  },
  {
   "cell_type": "code",
   "execution_count": 40,
   "metadata": {},
   "outputs": [
    {
     "data": {
      "text/plain": [
       "array([[0.5       , 0.73105858],\n",
       "       [0.26894142, 0.11920292]])"
      ]
     },
     "execution_count": 40,
     "metadata": {},
     "output_type": "execute_result"
    }
   ],
   "source": [
    "x = T.dmatrix('x')\n",
    "s = 1 / (1 + T.exp(-x))\n",
    "logistic = function([x], s)\n",
    "xv = np.matrix([[0, 1], [-1, -2]])\n",
    "y = logistic(xv)\n",
    "y"
   ]
  },
  {
   "cell_type": "code",
   "execution_count": 34,
   "metadata": {},
   "outputs": [
    {
     "name": "stdout",
     "output_type": "stream",
     "text": [
      "Populating the interactive namespace from numpy and matplotlib\n"
     ]
    },
    {
     "name": "stderr",
     "output_type": "stream",
     "text": [
      "/Library/Frameworks/Python.framework/Versions/3.6/lib/python3.6/site-packages/IPython/core/magics/pylab.py:160: UserWarning: pylab import has clobbered these variables: ['gradient', 'logistic', 'dot', 'f', 'test', 'generic']\n",
      "`%matplotlib` prevents importing * from pylab and numpy\n",
      "  \"\\n`%matplotlib` prevents importing * from pylab and numpy\"\n"
     ]
    },
    {
     "data": {
      "text/plain": [
       "[<matplotlib.lines.Line2D at 0x1151e24e0>]"
      ]
     },
     "execution_count": 34,
     "metadata": {},
     "output_type": "execute_result"
    },
    {
     "data": {
      "image/png": "[encoded data removed]",
      "text/plain": [
       "<matplotlib.figure.Figure at 0x114f106d8>"
      ]
     },
     "metadata": {},
     "output_type": "display_data"
    }
   ],
   "source": [
    "%pylab inline\n",
    "import matplotlib.pyplot as plt\n",
    "\n",
    "x = T.dvector('x')\n",
    "s = 1 / (1 + T.exp(-x))\n",
    "logistic = function([x], s)\n",
    "\n",
    "# Build a numpy vector for the support of the function\n",
    "x_eval = np.linspace(-6,6,1000)\n",
    "\n",
    "# Evaluate the function. Note that Thenao understands numpy arrays.\n",
    "y = logistic(x_eval)\n",
    "\n",
    "# Plot\n",
    "plt.plot(x_eval,y)"
   ]
  },
  {
   "cell_type": "markdown",
   "metadata": {},
   "source": [
    "### Shared variables\n",
    "1. Shared variables are hybrid symbolic and non-symbolic variables whose value may be shared between multiple functions.\n",
    "1. symbolic -- just as the elements returned by `dvectors` or `dmatrices`. But they also adopt an internal value that defines the value the symbolic variable will have in all functions that share it.\n",
    "1. shared values are useful when performing **training** in supervised learning algorithms, as we want these values to remain around across many executions of a Theano training or testing function. \n",
    "1. Often, the purpose of a Theano training function is to update the weights stored in a **shared variable**. And a testing function needs the current weights to perform the network's forward pass. \n",
    "\n",
    "\n",
    "The following is an example of how to use shared variables is by building an accumulator function."
   ]
  },
  {
   "cell_type": "code",
   "execution_count": 64,
   "metadata": {
    "collapsed": true
   },
   "outputs": [],
   "source": [
    "from theano import shared\n",
    "\n",
    "# We create a shared value and initiazlize it to 0.\n",
    "state = shared(0)\n",
    "\n",
    "# Define a scalar variable with the increment\n",
    "inc = T.iscalar('inc')\n",
    "\n",
    "# Everytime the function is executed, \n",
    "# our shared valuable is updated and returns old value\n",
    "## the function maps inc -> state; and it also updates the state to state+inc\n",
    "accumulator = function([inc], state, updates=[(state, state+inc)])"
   ]
  },
  {
   "cell_type": "code",
   "execution_count": 65,
   "metadata": {},
   "outputs": [
    {
     "name": "stdout",
     "output_type": "stream",
     "text": [
      "0\n",
      "0\n",
      "1\n"
     ]
    }
   ],
   "source": [
    "# Let us run it:\n",
    "print(state.get_value())\n",
    "print(accumulator(1))\n",
    "print(state.get_value())\n"
   ]
  },
  {
   "cell_type": "code",
   "execution_count": 66,
   "metadata": {},
   "outputs": [
    {
     "name": "stdout",
     "output_type": "stream",
     "text": [
      "1\n",
      "1\n",
      "301\n"
     ]
    }
   ],
   "source": [
    "print(state.get_value())\n",
    "print(accumulator(300))\n",
    "print(state.get_value())\n"
   ]
  },
  {
   "cell_type": "markdown",
   "metadata": {},
   "source": [
    "## Differentiation in Theano -- Automatic Differentiation (autdiff) for  gradients.\n",
    "Autdiff is a set of techniques to numerically evaluate the derivative of a function defined by a computer program. This implies that Theano can compute the derivative of any function for which you can write code (not only for parametric functions, but also data structures). \n",
    "1. Autdiff is different from numerical differentiation (which uses finite differences) and also \n",
    "1. Autdiff is different from symbolic differentiation (which is a way to write new computer expressions for the derivative of a given function). \n",
    "1. Both numerical and symbolic differentiation can be very inefficient when calculating partial derivatives with respect to many inputs. \n",
    "\n",
    "Autdiffs solves for these problems.\n",
    "\n",
    "**At the core of autdiff is the concept of dual numbers. We can extend any natural number to a dual number:**\n",
    "\n",
    "$$x \\rightarrow x + \\epsilon x'$$\n",
    "\n",
    "Just think about it as:\n",
    "$$f = f+f'\\Delta x;$$\n",
    "$$(fg) = (f+f'\\Delta x)(g+g'\\Delta x) = fg+f'g'\\Delta x^2+(fg'+f'g)\\Delta x$$\n",
    "$$=fg+(fg'+f'g)\\Delta  x~,~ as~\\Delta x^2 = 0$$\n",
    "\n",
    "$\\epsilon$ is just a symbol that distinguishes the second component, and we define its arithmetic as: $\\epsilon^2 = 0$. With this, it is easy to see that:\n",
    "\n",
    "$$(x + \\epsilon x') + (y + \\epsilon y') = x + y + \\epsilon(x' + y')$$\n",
    "$$(x + \\epsilon x')(y + \\epsilon y') = xy + \\epsilon(xy' + x'y)$$\n",
    "$$\\frac{1}{x+\\epsilon x'} =\\frac{1\\times(x-\\epsilon x')}{(x-\\epsilon x')(x+\\epsilon x')} = \\frac{1}{x}-\\epsilon\\frac{x'}{x^2}$$\n",
    "\n",
    "We can then apply these rules to a polynomial:\n",
    "\n",
    "$$p(x) = p_0 + p_1x + p_2x^2 + ... + p_nx^n$$\n",
    "\n",
    "to obtain:\n",
    "\n",
    "$$\n",
    "\\begin{equation}\n",
    "\\begin{aligned}\n",
    "p(x + \\epsilon x') & = p_0 + p_1(x + \\epsilon x' ) + ... + p_n(x + \\epsilon x')^n \\\\\n",
    "                   & = p_0 + p_1x + p_2x^2 + ... + p_nx^n \\\\\n",
    "                   &   \\, \\, \\, \\, + \\epsilon p_1x + 2\\epsilon p_2 xx' + ... + n\\epsilon p_nx^{n−1}x' \\\\\n",
    "                   & = P(x) + \\epsilon P'(x)x' \\\\\n",
    "\\end{aligned}\n",
    "\\end{equation}\n",
    "$$\n",
    "\n",
    "We are free to choose $x' = 1$ and then **a function applied to a dual number returns its derivative in the second dual component**. Dual numbers are data structures that allow us to carry the derivatives around without too much additional computation or errors. Theano profits from autdiff to compute complicated gradients in many dimensions using `T.grad`."
   ]
  },
  {
   "cell_type": "markdown",
   "metadata": {},
   "source": [
    "### Derivative of the logistic function\n",
    "We can also compute the gradient of complex expressions. It turns out that the derivative of the logistic is: $ds(x)/dx = s(x) \\cdot (1 - s(x))$. But we do not even need to know its symbolic expression to evaluate it at a given point:"
   ]
  },
  {
   "cell_type": "code",
   "execution_count": 78,
   "metadata": {},
   "outputs": [
    {
     "data": {
      "text/plain": [
       "array([[0.25      , 0.19661193],\n",
       "       [0.19661193, 0.10499359]])"
      ]
     },
     "execution_count": 78,
     "metadata": {},
     "output_type": "execute_result"
    }
   ],
   "source": [
    "x = T.dmatrix('x')\n",
    "s = T.sum(1 / (1 + T.exp(-x)))\n",
    "gs = T.grad(s, x)\n",
    "dlogistic = theano.function([x], gs)\n",
    "dlogistic([[0, 1], [-1, -2]])"
   ]
  },
  {
   "cell_type": "code",
   "execution_count": 79,
   "metadata": {},
   "outputs": [
    {
     "data": {
      "text/plain": [
       "array([[0.25      , 0.19661193],\n",
       "       [0.19661193, 0.10499359]])"
      ]
     },
     "execution_count": 79,
     "metadata": {},
     "output_type": "execute_result"
    }
   ],
   "source": [
    "g = (1 / (1 + T.exp(-x)) )*(1-1 / (1 + T.exp(-x)))\n",
    "ds = function([x],g)\n",
    "ds([[0, 1], [-1, -2]])"
   ]
  },
  {
   "cell_type": "markdown",
   "metadata": {},
   "source": [
    "## Gradient descent\n",
    "Key aspect of training a **neural network minimizing a cost function $J(\\theta)$.**\n",
    "    \n",
    " \n",
    "Gradient descent == updating the parameters $\\theta$ in the opposite direction of the gradient of the objective function $\\nabla_{\\theta}J(\\theta)$ w.r.t. to the parameters. \n",
    "1. you try to go down the slope in the direction where the slope is steeper. \n",
    "1. The learning rate $\\eta$ is the size of the steps:\n",
    "\n",
    "Following slop decreasing direction with step size  $\\eta$ , we reach a valley.\n"
   ]
  },
  {
   "cell_type": "markdown",
   "metadata": {},
   "source": [
    "## Classifying the Iris data set\n",
    "\n",
    "The Iris flower data set -- multivariate data set -- describ morphological properties of three related species of the Iris flower. \n",
    "\n",
    "The data set consists of 50 samples from each of three species of Iris ( setosa,  virginica and  versicolor). Four features were measured from each sample: the length and the width of the sepals and petals, in centimetres.\n",
    "\n",
    "## goal \n",
    "perform classification of this dataset using the logistic regression, and batch gradient descent to perform the minimization of the cost function (training)."
   ]
  },
  {
   "cell_type": "markdown",
   "metadata": {},
   "source": [
    "### Load the dataset\n",
    "\n",
    "The dataset is saved as a pickle file"
   ]
  },
  {
   "cell_type": "code",
   "execution_count": 90,
   "metadata": {},
   "outputs": [],
   "source": [
    "import pickle\n",
    "pkl_file = open('iris_dataset.pickle', 'rb')\n",
    "iris_data = pickle.load(pkl_file)\n",
    "features = iris_data['features']\n",
    "features = np.array(features)\n",
    "species = iris_data['species']\n",
    "species = np.array(species)"
   ]
  },
  {
   "cell_type": "code",
   "execution_count": null,
   "metadata": {},
   "outputs": [],
   "source": []
  },
  {
   "cell_type": "code",
   "execution_count": 94,
   "metadata": {},
   "outputs": [
    {
     "name": "stdout",
     "output_type": "stream",
     "text": [
      "[0 0 0 0 0 0 0 0 0 0 0 0 0 0 0 0 0 0 0 0 0 0 0 0 0 0 0 0 0 0 0 0 0 0 0 0 0\n",
      " 0 0 0 0 0 0 0 0 0 0 0 0 0 1 1 1 1 1 1 1 1 1 1 1 1 1 1 1 1 1 1 1 1 1 1 1 1\n",
      " 1 1 1 1 1 1 1 1 1 1 1 1 1 1 1 1 1 1 1 1 1 1 1 1 1 1 2 2 2 2 2 2 2 2 2 2 2\n",
      " 2 2 2 2 2 2 2 2 2 2 2 2 2 2 2 2 2 2 2 2 2 2 2 2 2 2 2 2 2 2 2 2 2 2 2 2 2\n",
      " 2 2]\n"
     ]
    }
   ],
   "source": [
    "## Assing numbers to species \n",
    "## (better to work with numbers than with strings)\n",
    "uni = np.unique(species)\n",
    "\n",
    "species[species == uni[0]] = 0\n",
    "species[species == uni[1]] = 1\n",
    "species[species == uni[2]] = 2\n",
    "species = species.astype(np.int)\n",
    "print(species)"
   ]
  },
  {
   "cell_type": "code",
   "execution_count": null,
   "metadata": {},
   "outputs": [],
   "source": []
  },
  {
   "cell_type": "code",
   "execution_count": 107,
   "metadata": {
    "collapsed": true
   },
   "outputs": [],
   "source": [
    "# Shuffle entries and separate into training, \n",
    "# validation and test sets:\n",
    "\n",
    "ntotal  = len(species)\n",
    "indices = np.arange(ntotal)\n",
    "np.random.shuffle(indices)\n",
    "\n",
    "species = species[indices]\n",
    "features = features[indices]\n",
    "\n",
    "nTrain = 110\n",
    "nValid = 20\n",
    "nFeat  = len(features[0])\n",
    "train_set = [features[0:nTrain],species[0:nTrain]]\n",
    "valid_set = [features[nTrain:nTrain+nValid],species[nTrain:nTrain+nValid]]\n",
    "test_set = [features[nTrain+nValid:ntotal],species[nTrain+nValid:ntotal]]"
   ]
  },
  {
   "cell_type": "code",
   "execution_count": 104,
   "metadata": {},
   "outputs": [
    {
     "data": {
      "text/plain": [
       "<matplotlib.text.Text at 0x11671a7b8>"
      ]
     },
     "execution_count": 104,
     "metadata": {},
     "output_type": "execute_result"
    },
    {
     "data": {
      "image/png": "[encoded data removed]",
      "text/plain": [
       "<matplotlib.figure.Figure at 0x10441e400>"
      ]
     },
     "metadata": {},
     "output_type": "display_data"
    }
   ],
   "source": [
    "f, axarr = plt.subplots(2, 2)\n",
    "axarr[0, 0].scatter(features[:,0][species == 0],features[:,1][species == 0],color = 'blue')\n",
    "axarr[0, 0].scatter(features[:,0][species == 1],features[:,1][species == 1],color = 'red')\n",
    "axarr[0, 0].scatter(features[:,0][species == 2],features[:,1][species == 2],color = 'green')\n",
    "axarr[0, 0].set_title('feature-0vs1')\n",
    "axarr[0, 1].scatter(features[:,2][species == 0],features[:,3][species == 0],color = 'blue')\n",
    "axarr[0, 1].scatter(features[:,2][species == 1],features[:,3][species == 1],color = 'red')\n",
    "axarr[0, 1].scatter(features[:,2][species == 2],features[:,3][species == 2],color = 'green')\n",
    "axarr[0, 1].set_title('feature-2vs3')\n",
    "axarr[1, 0].scatter(features[:,0][species == 0],features[:,2][species == 0],color = 'blue')\n",
    "axarr[1, 0].scatter(features[:,0][species == 1],features[:,2][species == 1],color = 'red')\n",
    "axarr[1, 0].scatter(features[:,0][species == 2],features[:,2][species == 2],color = 'green')\n",
    "axarr[1, 0].set_title('feature-0vs2')\n",
    "axarr[1, 1].scatter(features[:,1][species == 0],features[:,3][species == 0],color = 'blue')\n",
    "axarr[1, 1].scatter(features[:,1][species == 1],features[:,3][species == 1],color = 'red')\n",
    "axarr[1, 1].scatter(features[:,1][species == 2],features[:,3][species == 2],color = 'green')\n",
    "axarr[1, 1].set_title('feature-1vs3')\n"
   ]
  },
  {
   "cell_type": "markdown",
   "metadata": {},
   "source": [
    "## Using Theano to do classification with the logistic regression\n",
    "\n",
    "We will use Theano to train a logistic regression classifier using this dataset. \n",
    "\n",
    "Then do validation and testing .\n",
    "\n",
    "\n",
    "First, let us define symbolic variables for the features and the classes.\n",
    "\n",
    "we have a vector of inputs (features): $\\mathbf{x}$, and a vector of outputs $\\mathbf{y}$. We are trying the learn a function $f$ that maps $\\mathbf{x}$ into $\\mathbf{y}$:\n",
    "\n",
    "$$\\mathbf{y} = f(\\mathbf{w}\\cdot\\mathbf{x} + \\mathbf{b})$$\n",
    "\n",
    "where the matrix $\\mathbf{w}$ contains the weights, and $\\mathbf{b}$ is the bias vector, which are the parameters we want to optimize."
   ]
  },
  {
   "cell_type": "markdown",
   "metadata": {},
   "source": [
    "We first declare variables x, y\n",
    "\n",
    "We then create shared variables that contain the matrix of weights and the bias terms and initialize it with normally distributed values w,b"
   ]
  },
  {
   "cell_type": "code",
   "execution_count": null,
   "metadata": {},
   "outputs": [],
   "source": []
  },
  {
   "cell_type": "markdown",
   "metadata": {},
   "source": [
    "Now we want to create computational graph that computes the cost function for using all examples in the dataset. The likelihood is is built using the softmax formulation. In this formulation, we project the input vector into a set of hyperplanes that represent the different classes, and the distance from the vector to each of these hyperplanes relates to the probability of the input belonging to a given class. Write a graph that calculates the likelihood, the loss and the cost function, as well as the gradients of the cost function with respects to the weights and the bias terms. Use an L2 regularization approach.\n",
    "    > theano.tensor.nnet.nnet.softmax(x)\n",
    "In the softmax formulation, the likelihood is (for this case with three classes):\n",
    "\n",
    "$$P(\\mathbf{y}|\\mathbf{x};\\mathbf{\\theta})=\n",
    "\\prod_{i=1}^n\\Pi_{i0}^{\\mathbb{1}_0(yi)}\\Pi_{i0}^{\\mathbb{1}_1(yi)}\\Pi_{i2}^{\\mathbb{1}_2(yi)}$$\n",
    "\n",
    "where for each training example $x_i,y_i$, $x_i$ has 4 entries from features, and $y_i = 0,1,or,2$\n",
    "\n",
    "$$\\Pi_{ij} = \\frac{e^{x_i\\cdot\\Theta_j}}{e^{x_i\\cdot\\Theta_0} + e^{x_i\\cdot\\Theta_1} + e^{x_i\\cdot\\Theta_2}} $$\n",
    "\n",
    "is the probability of the output belonging to class $j$, and $\\mathbb{1}_c(y_i)$ is the indicator function, which takes the value 1 if $y_i=c$, and 0 otherwise.\n",
    "\n",
    "If we take the *NLL* of the likelihood we get the loss function:\n",
    "\n",
    "$$J(\\theta) = -\\sum_{i=1}^n\\mathbb{1}_0(y_i)\\log\\Pi_{i0} + \\mathbb{1}_1(y_i)\\log\\Pi_{i1}\n",
    "+ \\mathbb{1}_2(y_i)\\log\\Pi_{i2}$$\n",
    "\n",
    "Let us code it:\n"
   ]
  },
  {
   "cell_type": "code",
   "execution_count": 123,
   "metadata": {},
   "outputs": [
    {
     "name": "stdout",
     "output_type": "stream",
     "text": [
      "Initial model:\n",
      "[[-0.6169571  -0.49187609 -0.41645729]\n",
      " [ 1.16529205 -0.88106563 -0.83029297]\n",
      " [ 0.21054343  0.61277569 -0.26175592]\n",
      " [-0.82244998 -0.58150502 -0.42680878]]\n",
      "[0. 0. 0.]\n"
     ]
    }
   ],
   "source": [
    "## Declare Theano symbolic variables \n",
    "## for the features and the classes\n",
    "####################################\n",
    "x = T.dmatrix(\"x\")\n",
    "y = T.lvector(\"y\")\n",
    "\n",
    "\n",
    "## initialize the weight vector w randomly\n",
    "## this and the following bias variable b\n",
    "## are shared so they keep their values\n",
    "## between training iterations (updates)\n",
    "####################################\n",
    "\n",
    "w = theano.shared(np.random.randn(nFeat,len(uni) ), \\\n",
    "                  name='w',borrow=True)\n",
    "\n",
    "\n",
    "\n",
    "# initialize the bias term\n",
    "b = theano.shared(value=numpy.zeros((len(uni),),\\\n",
    "                dtype=theano.config.floatX),\\\n",
    "                 name='b',borrow=True)\n",
    "\n",
    "print(\"Initial model:\")\n",
    "print(w.get_value())\n",
    "print(b.get_value())\n",
    "\n",
    "\n",
    "\n",
    "## Construct Theano expression graph\n",
    "####################################\n",
    "\n",
    "\n",
    "# Probability that target belongs to class i\n",
    "p_y_given_x = T.nnet.softmax(T.dot(x, w) + b)\n",
    "\n",
    "# The prediction of the model \n",
    "#(class whose probability is maximal)\n",
    "prediction = T.argmax(p_y_given_x, axis=1)      \n",
    "\n",
    "# Loss function\n",
    "loss = -T.mean(T.log(p_y_given_x)[T.arange(y.shape[0]), y])  \n",
    "\n",
    "# The cost to minimize with regular term\n",
    "cost = loss.mean() + 0.005 * (w ** 2).sum()\n",
    "\n",
    "# Compute the gradient of the cost\n",
    "gw = T.grad(cost=cost, wrt=w)\n",
    "\n",
    "# w.r.t weight vector w and\n",
    "# bias term b\n",
    "# (we shall return to this in a\n",
    "# following section of this tutorial)\n",
    "gb = T.grad(cost=cost, wrt=b)                   \n",
    "                                                \n",
    "# Compile. What is a good learning rate?\n",
    "eta = 0.1 # Learning rate\n",
    "train = theano.function(inputs=[x,y],\n",
    "          outputs=[prediction, loss],\n",
    "          updates=((w, w - eta * gw), \\\n",
    "                   (b, b - eta * gb)),name='train')\n",
    "validate = theano.function(inputs=[x,y],\n",
    "          outputs=[prediction, loss],\\\n",
    "          name='validate')\n",
    "test = theano.function(inputs=[x,y],\n",
    "          outputs=[prediction, loss],\\\n",
    "          name='test')\n",
    "predict = theano.function(inputs=[x], \n",
    "          outputs=prediction, \n",
    "        name='predict')\n",
    "\n"
   ]
  },
  {
   "cell_type": "markdown",
   "metadata": {},
   "source": [
    "Now train your classifier using a certain number of iteratins. Plot the evolution of the loss function for different values of the learning rate and the regularization parameter."
   ]
  },
  {
   "cell_type": "code",
   "execution_count": 121,
   "metadata": {
    "collapsed": true
   },
   "outputs": [],
   "source": []
  },
  {
   "cell_type": "code",
   "execution_count": 124,
   "metadata": {
    "collapsed": true
   },
   "outputs": [],
   "source": [
    "# Train\n",
    "n_epochs = 50000\n",
    "errors = []\n",
    "errors_val = []\n",
    "errors_test = []\n",
    "for i in range(n_epochs):\n",
    "    pred, err = train(train_set[0], train_set[1])\n",
    "    errors.append(err)\n",
    "    \n",
    "    if (i%500 == 0):\n",
    "        pred_val, err_val = validate(valid_set[0], valid_set[1])\n",
    "        errors_val.append(err_val)\n",
    "        \n",
    "        pred_test, err_test = test(test_set[0], test_set[1])\n",
    "        errors_test.append(err_test)"
   ]
  },
  {
   "cell_type": "code",
   "execution_count": 127,
   "metadata": {},
   "outputs": [
    {
     "data": {
      "text/plain": [
       "(-2475.0, 51975.0, 0.1117994070237964, 1.1002809924138064)"
      ]
     },
     "execution_count": 127,
     "metadata": {},
     "output_type": "execute_result"
    },
    {
     "data": {
      "image/png": "[encoded data removed]",
      "text/plain": [
       "<matplotlib.figure.Figure at 0x116eccd30>"
      ]
     },
     "metadata": {},
     "output_type": "display_data"
    }
   ],
   "source": [
    "plt.plot(500*arange(len(errors_val)),\\\n",
    "         np.array(errors_val),marker='o')\n",
    "plt.ylim([0,1])\n",
    "plt.yscale('log')\n",
    "plt.axis('tight')\n"
   ]
  },
  {
   "cell_type": "markdown",
   "metadata": {
    "collapsed": true
   },
   "source": [
    "# linear regression with Theano\n",
    "The data set we are using is: Advertising.csv"
   ]
  },
  {
   "cell_type": "code",
   "execution_count": 10,
   "metadata": {},
   "outputs": [
    {
     "data": {
      "text/html": [
       "<div>\n",
       "<style>\n",
       "    .dataframe thead tr:only-child th {\n",
       "        text-align: right;\n",
       "    }\n",
       "\n",
       "    .dataframe thead th {\n",
       "        text-align: left;\n",
       "    }\n",
       "\n",
       "    .dataframe tbody tr th {\n",
       "        vertical-align: top;\n",
       "    }\n",
       "</style>\n",
       "<table border=\"1\" class=\"dataframe\">\n",
       "  <thead>\n",
       "    <tr style=\"text-align: right;\">\n",
       "      <th></th>\n",
       "      <th>TV</th>\n",
       "      <th>Radio</th>\n",
       "      <th>Newspaper</th>\n",
       "      <th>Sales</th>\n",
       "    </tr>\n",
       "  </thead>\n",
       "  <tbody>\n",
       "    <tr>\n",
       "      <th>1</th>\n",
       "      <td>230.1</td>\n",
       "      <td>37.8</td>\n",
       "      <td>69.2</td>\n",
       "      <td>22.1</td>\n",
       "    </tr>\n",
       "    <tr>\n",
       "      <th>2</th>\n",
       "      <td>44.5</td>\n",
       "      <td>39.3</td>\n",
       "      <td>45.1</td>\n",
       "      <td>10.4</td>\n",
       "    </tr>\n",
       "    <tr>\n",
       "      <th>3</th>\n",
       "      <td>17.2</td>\n",
       "      <td>45.9</td>\n",
       "      <td>69.3</td>\n",
       "      <td>9.3</td>\n",
       "    </tr>\n",
       "    <tr>\n",
       "      <th>4</th>\n",
       "      <td>151.5</td>\n",
       "      <td>41.3</td>\n",
       "      <td>58.5</td>\n",
       "      <td>18.5</td>\n",
       "    </tr>\n",
       "    <tr>\n",
       "      <th>5</th>\n",
       "      <td>180.8</td>\n",
       "      <td>10.8</td>\n",
       "      <td>58.4</td>\n",
       "      <td>12.9</td>\n",
       "    </tr>\n",
       "  </tbody>\n",
       "</table>\n",
       "</div>"
      ],
      "text/plain": [
       "      TV  Radio  Newspaper  Sales\n",
       "1  230.1   37.8       69.2   22.1\n",
       "2   44.5   39.3       45.1   10.4\n",
       "3   17.2   45.9       69.3    9.3\n",
       "4  151.5   41.3       58.5   18.5\n",
       "5  180.8   10.8       58.4   12.9"
      ]
     },
     "execution_count": 10,
     "metadata": {},
     "output_type": "execute_result"
    }
   ],
   "source": [
    "# Load dataset and show the first few entries:\n",
    "import pandas as pd\n",
    "\n",
    "# read data into a DataFrame\n",
    "data = pd.read_csv('Advertising.csv', index_col=0)\n",
    "data.rename(columns = {'radio':'Radio','newspaper':'Newspaper','sales':'Sales'},inplace = True)\n",
    "data.head()\n"
   ]
  },
  {
   "cell_type": "code",
   "execution_count": 11,
   "metadata": {},
   "outputs": [],
   "source": []
  },
  {
   "cell_type": "markdown",
   "metadata": {},
   "source": [
    "# Visualize the data \n",
    "It seems like TV-Sales is the MOST linear"
   ]
  },
  {
   "cell_type": "code",
   "execution_count": 19,
   "metadata": {},
   "outputs": [
    {
     "name": "stdout",
     "output_type": "stream",
     "text": [
      "Populating the interactive namespace from numpy and matplotlib\n"
     ]
    },
    {
     "data": {
      "text/plain": [
       "<matplotlib.axes._subplots.AxesSubplot at 0x111a43d68>"
      ]
     },
     "execution_count": 19,
     "metadata": {},
     "output_type": "execute_result"
    },
    {
     "data": {
      "image/png": "[encoded data removed]",
      "text/plain": [
       "<matplotlib.figure.Figure at 0x1116b8fd0>"
      ]
     },
     "metadata": {},
     "output_type": "display_data"
    }
   ],
   "source": [
    "% pylab inline\n",
    "import matplotlib.pyplot as plt\n",
    "## share y-axis\n",
    "## 1 row 3 columns of figures\n",
    "fig, axs = plt.subplots(1, 3, sharey=True)\n",
    "data.plot(kind='scatter', x='TV',        y='Sales', ax=axs[0], figsize=(16, 8))\n",
    "data.plot(kind='scatter', x='Radio',     y='Sales', ax=axs[1])\n",
    "data.plot(kind='scatter', x='Newspaper', y='Sales', ax=axs[2])\n"
   ]
  },
  {
   "cell_type": "code",
   "execution_count": 16,
   "metadata": {},
   "outputs": [
    {
     "data": {
      "text/plain": [
       "200"
      ]
     },
     "execution_count": 16,
     "metadata": {},
     "output_type": "execute_result"
    }
   ],
   "source": [
    "n_examples = len(data)\n",
    "n_examples\n"
   ]
  },
  {
   "cell_type": "markdown",
   "metadata": {},
   "source": [
    "# linear regression in Theano:\n"
   ]
  },
  {
   "cell_type": "code",
   "execution_count": 21,
   "metadata": {},
   "outputs": [],
   "source": [
    "import numpy as np\n",
    "from theano import *\n",
    "import theano.tensor as T\n",
    "from theano import function\n",
    "# Declare vectors for features and output:\n",
    "# Declare Theano symbolic variables\n",
    "ad_cost = np.asarray([data['TV'].values,\\\n",
    "                      data['Radio'].values,\\\n",
    "                      data['Newspaper'].values]).T\n",
    "sales = np.asarray(data['Sales'].values)\n",
    "\n",
    "X = T.dmatrix(\"X\")   # Featuers\n",
    "S = T.dvector(\"S\")   # Vector of outputs (sales)\n"
   ]
  },
  {
   "cell_type": "code",
   "execution_count": null,
   "metadata": {
    "collapsed": true
   },
   "outputs": [],
   "source": [
    "# initialize the weight vector w randomly\n",
    "# this and the following bias variable b\n",
    "# are shared so they keep their values\n",
    "# between training iterations (updates)\n",
    "# We use a normal initialization\n",
    "n_feats = 3 # Number of features\n",
    "rng = numpy.random\n",
    "#w = theano.shared(rng.randn(n_feats), name=\"w\")\n",
    "w = theano.shared(np.asarray(np.random.uniform(low = -np.sqrt(6. / (n_feats+200)), \n",
    "                                               high = np.sqrt(6. / (n_feats+200)),\n",
    "                                               size = n_feats),dtype=theano.config.floatX))\n",
    "\n",
    "# initialize the bias (intercept) term\n",
    "b = theano.shared(np.asarray(0, dtype=theano.config.floatX))\n",
    "# Let us print the initial model\n",
    "print(\"Initial model:\")\n",
    "print(w.get_value())\n",
    "print(b.get_value())\n",
    "Initial model:\n",
    "[-0.07802505  0.07229137 -0.16788819]\n",
    "0.0\n",
    "# Let us construct the Theano graph for computing the cost function\n",
    "prediction = T.dot(X, w) + b  # The prediction for S, given the features X\n",
    "# We have included L2 regulzarization (see below)\n",
    "cost = T.sum(T.pow(prediction-S,2))/(2*n_examples)+ 0.01 * (w ** 2).sum()\n",
    "#cost = T.sum(T.sqr(prediction - S)/float(n_examples))\n",
    "gw = T.grad(cost=cost, wrt=w)\n",
    "gb = T.grad(cost=cost, wrt=b)                   # Compute the gradient of the cost\n",
    "                                                # w.r.t weight vector w and\n",
    "                                                # bias term b\n",
    "                                                # (we shall return to this in a\n",
    "                                                # following section of this tutorial)\n",
    "# And now compile the training function\n",
    "eta = 5E-5\n",
    "train = theano.function(\n",
    "          inputs=[X,S],\n",
    "          outputs=[prediction, cost],\n",
    "          updates=((w, w - eta * gw), (b, b - eta * gb)),name='train')\n",
    "training_steps = 1000000\n",
    "# Train\n",
    "loss_trace = []\n",
    "for i in range(training_steps):\n",
    "    pred, err = train(ad_cost, sales)\n",
    "    loss_trace.append(err)\n",
    "    #print(w.get_value())\n",
    "print(\"Final model:\")\n",
    "print(w.get_value())\n",
    "print(b.get_value())\n",
    "Final model:\n",
    "[ 0.04577006  0.1885331  -0.00102064]\n",
    "2.9372170550890693"
   ]
  }
 ],
 "metadata": {
  "kernelspec": {
   "display_name": "Python 3",
   "language": "python",
   "name": "python3"
  },
  "language_info": {
   "codemirror_mode": {
    "name": "ipython",
    "version": 3
   },
   "file_extension": ".py",
   "mimetype": "text/x-python",
   "name": "python",
   "nbconvert_exporter": "python",
   "pygments_lexer": "ipython3",
   "version": "3.6.0"
  }
 },
 "nbformat": 4,
 "nbformat_minor": 2
}
