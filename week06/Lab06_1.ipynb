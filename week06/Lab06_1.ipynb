{
 "cells": [
  {
   "cell_type": "markdown",
   "metadata": {},
   "source": [
    "#### 1. Linspace VS arange\n",
    "#### 1. Homework revisit\n"
   ]
  },
  {
   "cell_type": "markdown",
   "metadata": {
    "collapsed": true
   },
   "source": [
    "## Using Linspace\n",
    "## I want 2 points, evenly spaced [0,1] inclusive. Then the step size between the two points can be calculated as: \n",
    "$$\\frac{1-0}{2-1} = 1$$"
   ]
  },
  {
   "cell_type": "code",
   "execution_count": 38,
   "metadata": {},
   "outputs": [
    {
     "name": "stdout",
     "output_type": "stream",
     "text": [
      "[ 0.  1.]\n"
     ]
    }
   ],
   "source": [
    "import matplotlib.pyplot as plt\n",
    "import numpy as np\n",
    "\n",
    "lin2 = np.linspace(0,1,2)\n",
    "print(lin2)"
   ]
  },
  {
   "cell_type": "markdown",
   "metadata": {},
   "source": [
    "## I want 3 points, evenly spaced [0,1] inclusive. Then the step size among the 3 points can be calculated as: \n",
    "$$\\frac{1-0}{3-1} = 0.5$$"
   ]
  },
  {
   "cell_type": "code",
   "execution_count": 39,
   "metadata": {},
   "outputs": [
    {
     "name": "stdout",
     "output_type": "stream",
     "text": [
      "[ 0.   0.5  1. ]\n"
     ]
    }
   ],
   "source": [
    "## the step size = (1-0)/(3-1)\n",
    "################################\n",
    "lin3 = np.linspace(0,1,3)\n",
    "print(lin3)"
   ]
  },
  {
   "cell_type": "markdown",
   "metadata": {},
   "source": [
    "## In general, I want N points, evenly spaced [a,b] inclusive. Then the step size among the N points can be calculated as: \n",
    "$$\\Delta x = \\frac{b-a}{N-1}$$\n",
    "\n",
    "## And all points you get are: $$a, ~ a+\\Delta x,~ a+2\\Delta x,~a+3\\Delta x,\\dots,~ a+(N-2)\\Delta x,~ a+(N-1)\\Delta x$$\n",
    "## Since $\\Delta x = \\frac{b-a}{N-1}$, $a+(N-1)\\Delta x = a+(N-1) \\frac{b-a}{N-1} = b$. \n",
    "\n",
    "## For example, I want 11 points between -1.1 and 1.5 (inclusive), these 11 points are evenly spaced [-1.1,1.5]\n",
    "$$\\Delta x = \\frac{1.5- (-1.1)}{11-1} = 0.26$$\n",
    "## The 11 points are: $$-1.1, ~-1.1+0.26,~ -1.1+2\\cdot 0.26,~\\dots, ~1.5$$"
   ]
  },
  {
   "cell_type": "code",
   "execution_count": 41,
   "metadata": {},
   "outputs": [
    {
     "name": "stdout",
     "output_type": "stream",
     "text": [
      "linspace =  [-1.1  -0.84 -0.58 -0.32 -0.06  0.2   0.46  0.72  0.98  1.24  1.5 ]\n",
      "N points =  11\n",
      "step size =  0.26\n",
      "step size by difference =  [ 0.26  0.26  0.26  0.26  0.26  0.26  0.26  0.26  0.26  0.26]\n"
     ]
    }
   ],
   "source": [
    "## the step size = (right-left)/(n-1)\n",
    "################################\n",
    "left  = -1.1\n",
    "right = 1.5\n",
    "N     = 11\n",
    "lin   = np.linspace(left,right,N)\n",
    "\n",
    "step_size = (right-left)/(N-1)\n",
    "print('linspace = ', lin)\n",
    "print('N points = ',len(lin))\n",
    "\n",
    "print('step size = ', step_size)\n",
    "\n",
    "print('step size by difference = ', lin[1:] - lin[:-1])"
   ]
  },
  {
   "cell_type": "markdown",
   "metadata": {},
   "source": [
    "## np.arange()\n",
    "## I want to get points between [0,10) -- 0 inclusive, 10 exclusive. I don't specify how many I want, instead, I want points to be evenly spaced with step size 0.5. "
   ]
  },
  {
   "cell_type": "code",
   "execution_count": 45,
   "metadata": {},
   "outputs": [
    {
     "name": "stdout",
     "output_type": "stream",
     "text": [
      "not inclusive:\n",
      " [ 0.   0.5  1.   1.5  2.   2.5  3.   3.5  4.   4.5  5.   5.5  6.   6.5  7.\n",
      "  7.5  8.   8.5  9.   9.5]\n",
      "inclusive:\n",
      " [  0.    0.5   1.    1.5   2.    2.5   3.    3.5   4.    4.5   5.    5.5\n",
      "   6.    6.5   7.    7.5   8.    8.5   9.    9.5  10. ]\n"
     ]
    }
   ],
   "source": [
    "ara = np.arange(0,10,0.5)\n",
    "print('not inclusive:\\n', ara)\n",
    "\n",
    "## How to use arange() to get [0,10] -- 0 inclusive and 10 inclusive, with step size 0.5\n",
    "ara_inclusive = np.arange(0,10+0.5, 0.5)\n",
    "print('inclusive:\\n', ara_inclusive)"
   ]
  },
  {
   "cell_type": "markdown",
   "metadata": {},
   "source": [
    "## In general, I want to get points between [a,b) -- a inclusive, b exclusive -- of step size $\\delta x$. Then all points I obtain are\n",
    "## $a,~ a+\\delta x,~ a+2\\delta x, ~a+3\\delta x,~\\dots,~ a+K\\delta x $, where $K$ is the largest integer such that $a+K\\delta x < b$\n",
    "\n",
    "## In total, I will obtain $int\\left(\\frac{b-a}{\\delta x}\\right)$ many points. "
   ]
  },
  {
   "cell_type": "code",
   "execution_count": 47,
   "metadata": {},
   "outputs": [
    {
     "name": "stdout",
     "output_type": "stream",
     "text": [
      "[ 0.   0.5  1.   1.5  2.   2.5  3.   3.5  4.   4.5  5.   5.5  6.   6.5  7.\n",
      "  7.5  8.   8.5  9.   9.5]\n",
      "20\n",
      "20\n"
     ]
    }
   ],
   "source": [
    "ara = np.arange(0,10,0.5)\n",
    "print(ara)\n",
    "print(len(ara))\n",
    "print(int( (10 - 0)/(0.5) ) )"
   ]
  },
  {
   "cell_type": "markdown",
   "metadata": {},
   "source": [
    "## np.arange() vs np.linspace()\n",
    "\n",
    "## Question: I want to plot sin function, where x is between 0 and 4pi, inclusive.\n",
    "\n",
    "## We first need to specify x-axis points, then plug in these values to np.sin()\n",
    "## To obtain x-axis values, we either \n",
    "1. use linspace to obtain say 100 x-values between  0 and 4pi, \n",
    "1. or  use  np.arange to specify  x-values between  0 and 4pi with some step size.\n"
   ]
  },
  {
   "cell_type": "code",
   "execution_count": 48,
   "metadata": {},
   "outputs": [
    {
     "name": "stdout",
     "output_type": "stream",
     "text": [
      "True\n"
     ]
    }
   ],
   "source": [
    "import matplotlib.pyplot as plt\n",
    "import numpy as np\n",
    "\n",
    "### 1-d array with 100 elements from 0 to 4pi, with step 4pi/10\n",
    "### linspace specifies: 100 points evenly spaced  [0, 4*pi] inclusive\n",
    "### note the distance between adjacent points is 4*np.pi/99\n",
    "\n",
    "xpts = np.linspace(0,4*np.pi,100)\n",
    "\n",
    "## np.arange specifies: [0, 4*pi) step between points is 4*np.pi/100, \n",
    "## but 4*pi is not included\n",
    "#xpts_arange  = np.arange(0,4*np.pi,4*np.pi/100)\n",
    "\n",
    "xpts_to_line = np.arange(0,4*np.pi+4*np.pi/99, 4*np.pi/99)\n",
    "\n",
    "\n",
    "print(np.array_equal(xpts,xpts_to_line))"
   ]
  },
  {
   "cell_type": "code",
   "execution_count": 59,
   "metadata": {},
   "outputs": [
    {
     "data": {
      "image/png": "[encoded data removed]",
      "text/plain": [
       "<matplotlib.figure.Figure at 0x106f1fa90>"
      ]
     },
     "metadata": {},
     "output_type": "display_data"
    }
   ],
   "source": [
    "xpts = np.linspace(0,4*np.pi,1000)\n",
    "\n",
    "# y is sin of x\n",
    "y = np.sin(xpts)\n",
    "\n",
    "# plot the y = sin(x) function where x is between 0 and 4pi\n",
    "# alpha is between 0 and 1, this is a value changes transparency\n",
    "# '.' is for shape, you can also have '.-' just try different shapes\n",
    "plt.plot(xpts,y,'.',label = u'y=sin(x)')#,color = 'blue',alpha = 0.6)\n",
    "\n",
    "plt.xlabel(\"x\")\n",
    "plt.ylabel(\"sin(x)\")\n",
    "\n",
    "plt.legend()\n",
    "plt.show()"
   ]
  },
  {
   "cell_type": "markdown",
   "metadata": {},
   "source": [
    "# Past lab revisit\n",
    "1. invCDF(arr, lam)\n",
    "1. sampling\n",
    "1. LLN\n",
    "1. central limit\n"
   ]
  },
  {
   "cell_type": "code",
   "execution_count": null,
   "metadata": {
    "collapsed": true
   },
   "outputs": [],
   "source": []
  },
  {
   "cell_type": "markdown",
   "metadata": {},
   "source": [
    "## The idea -- Inverse sampling\n",
    "\n",
    "The basic idea behind the inverse transform method is to transform uniform samples into samples from a different distribution. \n",
    "\n",
    "The CDF (cummulative density function) of a distribution  is a function that ranges from  0 to 1. \n",
    "\n",
    "you  use $$Uniform(0,1)$$ to generate a random number, say 0.63. Now map this number on the range (or y-axis) to a x using the CDF curve to generate a sample. This process is illustrated below:\n",
    "\n",
    "![](invtrans.png)\n",
    "\n",
    "The right hand side image is the CDF while the left hand side is the pdf we want to sample from.\n",
    "\n",
    "## Let us formalize this:\n",
    "\n",
    "This is the process:\n",
    "\n",
    "1. get a uniform sample $u$ from $Unif(0,1)$\n",
    "1. solve for $x$ yielding a new equation $x=F^{-1}(u)$ where $F$ is the CDF of the distribution we desire. \n",
    "1. repeat."
   ]
  },
  {
   "cell_type": "code",
   "execution_count": 67,
   "metadata": {
    "collapsed": true
   },
   "outputs": [],
   "source": [
    "invCDF = lambda U,lam: -np.log(1-U)/lam\n",
    "\n",
    "# 1. get a uniform sample $u$ from $Unif(0,1)$\n",
    "u = np.random.rand(1)\n",
    "\n",
    "# 1. solve for $x$ yielding a new equation $x=F^{-1}(u)$ where $F$ is the CDF of the distribution we desire. \n",
    "x = invCDF(u,1.5)\n",
    "\n",
    "# 1. get N uniform sample $u$ from $Unif(0,1)$\n",
    "N = 10000\n",
    "u = np.random.rand(N)\n",
    "\n",
    "# 1. solve for $x$ yielding a new equation $x=F^{-1}(u)$ where $F$ is the CDF of the distribution we desire. \n",
    "# And u now is an array of N numbers, use inverse sampling, will provide us with N samples following exp(0.5)\n",
    "X = invCDF(u,1.5)"
   ]
  },
  {
   "cell_type": "markdown",
   "metadata": {},
   "source": [
    "# The histogram of the samples $X$  you generated should look like the probability density of exp(0.5)"
   ]
  },
  {
   "cell_type": "code",
   "execution_count": 68,
   "metadata": {},
   "outputs": [
    {
     "data": {
      "image/png": "[encoded data removed]",
      "text/plain": [
       "<matplotlib.figure.Figure at 0x106ea16a0>"
      ]
     },
     "metadata": {},
     "output_type": "display_data"
    }
   ],
   "source": [
    "# plot the histogram of these samples \n",
    "plt.figure(figsize=(8,5))\n",
    "\n",
    "plt.hist(X,  normed=1, bins= 50, label=u'Inverse Sampling Hist', \n",
    "         edgecolor='black', linewidth=1.2);\n",
    "\n",
    "# plot our pdf function\n",
    "# pdf of exp(0.5)\n",
    "exp_pdf = lambda arr,lam : lam*np.exp(-lam*arr)*(arr>0)\n",
    "xvals   = np.linspace(1e-5, 10, 1000)\n",
    "\n",
    "plt.plot(xvals, exp_pdf(xvals,1.5), 'b', \n",
    "         label=u'actual probability density exp(-x)')\n",
    "plt.legend()\n",
    "plt.show()"
   ]
  },
  {
   "cell_type": "markdown",
   "metadata": {},
   "source": [
    "## Average of the samples? Note that expected value (mean) of an exponential distribution is $\\frac{1}{\\lambda}$; variannce of an exponential distribution is $\\frac{1}{\\lambda^2}$\n",
    "\n",
    "## for $\\lambda = 0.5$, $E(X)= 1/0.5 = 2$, $Var(X) = 1/0.5^2 = 4$\n",
    "\n",
    "## Let's look at the sample mean and variance\n"
   ]
  },
  {
   "cell_type": "code",
   "execution_count": 69,
   "metadata": {},
   "outputs": [
    {
     "name": "stdout",
     "output_type": "stream",
     "text": [
      "sample mean 0.666161495349\n",
      "sample vari 0.427360763927\n",
      "1/lam 0.6666666666666666\n",
      "1/lam^2 0.4444444444444444\n"
     ]
    }
   ],
   "source": [
    "print('sample mean', X.mean())\n",
    "print('sample vari', X.var())\n",
    "print('1/lam',1/1.5)\n",
    "print('1/lam^2',1/1.5**2)"
   ]
  },
  {
   "cell_type": "markdown",
   "metadata": {},
   "source": [
    "## The above histogram shows that our samples (generate by invCDF through uniform(0,1) indeed gives exp(0.5) distribution. Now we want to repeat the same experiment, say 100 times, then we will obtain 100 different sample mean. We want to see what the histogram of these sample means look like.\n",
    "\n",
    "## This is the process:\n",
    "\n",
    "1. get a uniform sample $u$ from $Unif(0,1)$\n",
    "1. solve for $x$ yielding a new equation $x=F^{-1}(u)$ where $F$ is the CDF of the distribution we desire. \n",
    "1. repeat 100 times"
   ]
  },
  {
   "cell_type": "code",
   "execution_count": 70,
   "metadata": {},
   "outputs": [
    {
     "data": {
      "image/png": "[encoded data removed]",
      "text/plain": [
       "<matplotlib.figure.Figure at 0x106670160>"
      ]
     },
     "metadata": {},
     "output_type": "display_data"
    }
   ],
   "source": [
    "repeat_N_times  = 100\n",
    "N = 1000\n",
    "\n",
    "mean_of_samples = np.zeros(repeat_N_times)\n",
    "\n",
    "for i in range(repeat_N_times):\n",
    "    u = np.random.rand(N)\n",
    "    X = invCDF(u,0.5)\n",
    "    mean_of_samples[i] = X.mean()\n",
    "\n",
    "plt.hist(mean_of_samples,normed = 1)\n",
    "plt.show()"
   ]
  },
  {
   "cell_type": "markdown",
   "metadata": {},
   "source": [
    "### We can see that the histogram above looks like a belt curve (normal distribution). It centered around 2. By Central limit the histogram above should look like a normal distribution with mean 2 and std as the following:\n",
    "### $$\\begin{eqnarray}\n",
    "V(\\bar{x}) &=& \\frac{\\sigma^2}{N}\n",
    "\\end{eqnarray}$$\n",
    "### We should have the variance is approximately X.var() or $$\\frac{\\sigma^2}{N} = (1/0.5^2)/1000$$\n",
    "\n",
    "### Now I want to plot the above histogram and the corresponding Normal distribution together"
   ]
  },
  {
   "cell_type": "code",
   "execution_count": 86,
   "metadata": {},
   "outputs": [
    {
     "data": {
      "image/png": "[encoded data removed]",
      "text/plain": [
       "<matplotlib.figure.Figure at 0x106e21668>"
      ]
     },
     "metadata": {},
     "output_type": "display_data"
    }
   ],
   "source": [
    "## Histogram: by copy and past the above code:\n",
    "repeat_N_times  = 200\n",
    "N = 90\n",
    "mean_of_samples = np.zeros(repeat_N_times)\n",
    "for i in range(repeat_N_times):\n",
    "    u = np.random.rand(N)\n",
    "    X = invCDF(u,0.5)\n",
    "    mean_of_samples[i] = X.mean()\n",
    "plt.hist(mean_of_samples,normed = 1,\n",
    "         label = 'sample hist')\n",
    "\n",
    "## plot normal distribution \n",
    "import scipy as sp\n",
    "import scipy.stats\n",
    "# call the normal distribution from scipy.stats\n",
    "# specify normal distribution's mean and standard deviation\n",
    "norm      = scipy.stats.norm\n",
    "norm_mean = mean_of_samples.mean()\n",
    "norm_std  = mean_of_samples.std()\n",
    "\n",
    "#norm_std   = np.sqrt( 4/N )\n",
    "xpts = np.linspace(norm_mean-4*norm_std,norm_mean+4*norm_std,200)\n",
    "#xpts = np.linspace(-10,10,200)\n",
    "ypts = norm.pdf(xpts,norm_mean,norm_std)\n",
    "\n",
    "plt.plot(xpts, ypts, '-',\n",
    "         c = 'blue',label = 'normal distribution')\n",
    "\n",
    "plt.legend()\n",
    "plt.show()"
   ]
  },
  {
   "cell_type": "code",
   "execution_count": null,
   "metadata": {
    "collapsed": true
   },
   "outputs": [],
   "source": []
  },
  {
   "cell_type": "markdown",
   "metadata": {},
   "source": [
    "## Now we want to use the invCDF to generate samples -- following exp(0.5), and to see how their average behave (i.e. central limit)\n",
    "\n",
    "## The way to visualize it or to do the experiments, we set the following:\n",
    "1. We will do a large set M=1000 of experiments \n",
    "1. In each experiment, we will obtain 200 samples.\n",
    "1. For the $N^{th}$ experiment, each sample is of size $N$. To obtain one sample, this means that you generate N random numbers $X_i$~$exp(\\lambda)$, $i = 1,2,\\dots,N$. One sample will be stored as $$\\frac{\\sum_{i=1}^{N}X_i}{N}~.$$ Then you repeat \"generating one sample\" 200 times, to obtain 200 samples.\n",
    "\n",
    "1. For example: \n",
    "    1. the first experiment, you will generate 200 samples; each sample is of size 1, which is 1 random number $X_1$~$exp(\\lambda)$; Then you store each sample as $$\\frac{X_1}{1}$$ In total, you have 200 of them\n",
    "    1. the 1000 th experiment, you will generate 200 samples; each sample is of size 1000, which are 1000 random numbers $X_i$~$exp(\\lambda)$, $i = 1,2,\\dots,1000$. One sample will be stored as $$\\frac{\\sum_{i=1}^{1000}X_i}{1000}$$\n",
    "    In total, you have 200 of them"
   ]
  },
  {
   "cell_type": "code",
   "execution_count": null,
   "metadata": {
    "collapsed": true
   },
   "outputs": [],
   "source": []
  }
 ],
 "metadata": {
  "kernelspec": {
   "display_name": "Python 3",
   "language": "python",
   "name": "python3"
  },
  "language_info": {
   "codemirror_mode": {
    "name": "ipython",
    "version": 3
   },
   "file_extension": ".py",
   "mimetype": "text/x-python",
   "name": "python",
   "nbconvert_exporter": "python",
   "pygments_lexer": "ipython3",
   "version": "3.6.0"
  }
 },
 "nbformat": 4,
 "nbformat_minor": 2
}
